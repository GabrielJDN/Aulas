{
 "cells": [
  {
   "cell_type": "markdown",
   "id": "2532d20b-3e5f-4059-93f2-746645ba573f",
   "metadata": {},
   "source": [
    "# Sumário\n",
    "\n",
    "* [1. Aula 1 - Introdução a Bancos de Dados](#1.-Aula-1---Introdução-a-Bancos-de-Dados)\n",
    "\n",
    "    - [1.1 O que são bancos de dados?](#1.1-O-que-são-bancos-de-dados?)\n",
    "\n",
    "* [2. Aula 2 - Normalização de Dados](#2.-Aula-2---Normalização-de-Dados)\n",
    "\n",
    "    - [2.1 Relacionamento e Chaves](#2.1-Relacionamento-e-Chaves)\n",
    "\n",
    "    - [2.2 Tipos de Relacionamentos](#2.2-Tipos-de-Relacionamentos)\n",
    "\n",
    "    - [2.3 Anomalias nos dados](#2.3-Anomalias-nos-dados)\n",
    "\n",
    "        - [2.3.1 Formas normais de normalização](#2.3.1-Formas-normais-de-normalização)\n",
    "\n",
    "    - [2.4 Exercício de fixação](#2.4-Exercício-de-fixação)\n",
    "\n",
    "* [3. Aula 3 - Criando um Banco de Dados](#3.-Aula-3---Criando-um-Banco-de-Dados)\n",
    "\n",
    "    - [3.1 SQL ANSI, ISO e outros](#3.1-SQL-ANSI,-ISO-e-outros)\n",
    "\n",
    "    - [3.2 Tipos de dados mais comuns](#3.2-Tipos-de-dados-mais-comuns)\n",
    "\n",
    "    - [3.3 Outro tipos importantes de dados](#3.3-Outro-tipos-importantes-de-dados)\n",
    "\n",
    "    - [3.4 Atributos](#3.4-Atributos)\n",
    "\n",
    "    - [3.5 Boas práticas de armazenamento em disco](#3.5-Boas-práticas-de-armazenamento-em-disco)\n",
    "\n",
    "    - [3.6 Comandos para a criação do banco de dados](#3.6-Comandos-para-a-criação-do-banco-de-dados)\n",
    "\n",
    "    - [3.7 Criando um Índice](#3.7-Criando-um-Índice)\n",
    "\n",
    "    - [3.8 Criando sequências](#3.8-Criando-sequências)\n",
    "\n",
    "* [4. Aula 4 - Manipulação de dados](#4.-Aula-4---Manipulação-de-dados)\n",
    "\n",
    "    - [4.1 DML e DQL](#4.1-DML-e-DQL)\n",
    "\n",
    "    - [4.2 Filtros de seleção](#4.2-Filtros-de-seleção)\n",
    "    \n",
    "    - [4.3 Consultando dados com filtros](#4.3-Consultando-dados-com-filtros)\n",
    "    \n",
    "    - [4.4 Atributos Especiais](#4.4-Atributos-Especiais)"
   ]
  },
  {
   "cell_type": "code",
   "execution_count": 8,
   "id": "66d30468-d9cb-4cd0-abef-840e345f4da3",
   "metadata": {},
   "outputs": [
    {
     "name": "stdout",
     "output_type": "stream",
     "text": [
      "[4.4 Atributos Especiais](#4.4-Atributos-Especiais)\n"
     ]
    }
   ],
   "source": [
    "x = \"4.4 Atributos Especiais\"\n",
    "print(\"[%s](#%s)\"%(x,x.replace(\" \",\"-\")))"
   ]
  },
  {
   "cell_type": "markdown",
   "id": "68aa3ac4-a646-4a77-b700-94cf9fa1455c",
   "metadata": {},
   "source": [
    "## 1. Aula 1 - Introdução a Bancos de Dados"
   ]
  },
  {
   "cell_type": "markdown",
   "id": "20271da5-fd5b-4b37-bc69-baccb50ea25a",
   "metadata": {},
   "source": [
    "* Objetivos do curso:\n",
    "    - Aprender a linguagem SQL ANSI;\n",
    "    - Aprender a modelar, normalizar, criar e interagir com bancos de dados.\n",
    " \n",
    "* Aptidões desenvolvidas:\n",
    "    - Criar/modelar/normalizar bancos de dados;\n",
    "    - Interagir com bancos de dados.\n",
    "    \n",
    "### 1.1 O que são bancos de dados?\n",
    "\n",
    "Um banco de dados é um mecanismo de armazenamento de dados em um formato regular. Ele pode aparecer em dois tipos: **Relacional** e **Não-Relacioal**.\n",
    "\n",
    "* Bancos de dados Não-Relacionais: Os dados são escritos em formatos de arquivo e apresentam uma meno velocidade de acesso aos dados.\n",
    "* Banco de dados Relacional: Os dados são organizados em tabelas de modo que possam se relacionar entre si. Esse tipo de banco de dados ocupa menor espaço o que gera uma maior velocidade no acesso aos dados.\n",
    "\n",
    "**Visões:** Consultas SQL a dados das tabelas do banco sem armazená-los. \n",
    "\n",
    "**Índices:** Estruturas que gerenciam a ordenação de valores dos campos informados para melhorar a performance de processamento destes campos.\n",
    "\n",
    "**S**istemas **G**erenciadores de **B**ancos de **D**ados (**SGBD**): A funcionalidade de gerar o acesso ao banco de dados é do SGBD. É necessário para bancos de dados grandes com múltiplos usuários, visando evitar o surgimento de incosistências. Ele não é um banco de dados por si só, mas sim um complemento (um grupo de programas) ao banco de dados.\n",
    "\n",
    "O SQL é formado pelas seguintes linguagens:\n",
    "\n",
    "* DDL (**D**ata **D**efinition **L**anguage): É responsável pelas estruturas (tabelas) dos dados. Tem três comandos importantes **create** (criar tabelas), **alter** (alterar tabelas), **drop** (excluir tabelas); \n",
    "* DML (**D**ata **M**anipulation **L**anguage): É responsável pela manipulação dos dados. Tem três comandos importantes **insert** (insere dados), **update** (atualizar os dados da tabela), **delete** (excluir registros das tabelas);\n",
    "* DQL (**D**ata **Q**uery **L**anguge): Permite a recuperação/consulta de dados inseridos nas tabelas. O comando mais importante é o **select** que permite selecionar dados de alguma tabela, permite a ordenação/agrupamento desses dados e até mesmo a fazer operações matemáticas nos dados.\n",
    "* DCL (**D**ata **C**ontrol **L**anguage): Permite gerenciar quem pode ou não pode fazer as tarefas no banco de dados. É por meio dela que é possível permitir ou negar acesso a determinado usuário para criar/alterar/inserir registros no banco de dados. Tem dois comandos importantes **grant** (dar acesso aos usuários) e **revoke** (retirar acesso de usuários).\n",
    "* DTL (**D**ata **T**ransaction **L**anguage): É um conjunto de operações. Os principais comandos são o **start transaction** (para iniciar uma transação), o comando **commit** (concretiza a transação) e por fim o **rollback** (anula a transação)."
   ]
  },
  {
   "cell_type": "markdown",
   "id": "68768339-1a76-4884-b79c-e1ba71c0a802",
   "metadata": {},
   "source": [
    "Principais bancos de dados no mercado:\n",
    "\n",
    "* MySQL: Principal banco de dados usado na internet por servidores de hospedagem para sites de todos os portes. \n",
    "    - SGBD: Possui.\n",
    "    - ACID: Possui.\n",
    "    - Licença Comercial: Não é gratuita (mas é gratuito para uso **pessoal**).\n",
    "    - Licença Estudante: É gratuito.\n",
    "* PostgreSQL: Principal concorrente do MySQL.\n",
    "    - SGBD: Possui.\n",
    "    - ACID: Possui.\n",
    "    - Licença Comercial: É gratuita.\n",
    "    - Licença Estudante: É gratuito.\n",
    "* Firebird:\n",
    "    - SGBD: Possui.\n",
    "    - ACID: Possui.\n",
    "    - Licença Comercial: É gratuita.\n",
    "    - Licença Estudante: É gratuito.\n",
    "* Oracle:\n",
    "    - SGBD: Possui.\n",
    "    - ACID: Possui.\n",
    "    - Licença Comercial: Não é gratuita.\n",
    "    - Licença Estudante: É gratuito (Oracle Server express).\n",
    "* SQL Server: \n",
    "    - SGBD: Possui.\n",
    "    - ACID: Possui.\n",
    "    - Licença Comercial: Não é gratuita.\n",
    "    - Licença Estudante: É gratuito (SQL Server express).\n",
    "\n",
    "*Transações ACID:* É uma propriedade que faz as transações serem mais \"poderosas\". Será estudada mais adiante.\n",
    "\n",
    "Todos esses bancos podem ser baixados para uso pessoal quando queremos estudar como usar esses bancos de dados."
   ]
  },
  {
   "cell_type": "markdown",
   "id": "0956e263-b0fd-462e-92d0-b009725e4435",
   "metadata": {},
   "source": [
    "## 2. Aula 2 - Normalização de Dados"
   ]
  },
  {
   "attachments": {
    "077d77eb-a74e-412d-a719-44708303232d.png": {
     "image/png": "[encoded data removed]"
    }
   },
   "cell_type": "markdown",
   "id": "7625a561-3a0a-418a-99af-de9531f6c0a8",
   "metadata": {},
   "source": [
    "### 2.1 Relacionamento e Chaves\n",
    "\n",
    "* Relacionamentos: São ligações entre tabelas, onde existe um ou mais campos em comum, esses campos são conhecidos como campos **chaves**, apresentando valores de referência em ambas as tabelas que queremos relacionar. \n",
    "\n",
    "* Chave Primária (**PK**): É uma coluna que apresenta valores que não se repetem em registros, também chamado de **identificador único** (exemplo RG em uma tabela de clientes). \n",
    "\n",
    "* Chave Composta: Necessita uma composição de duas ou mais colunas para criar uma identificação única de cada registro.\n",
    "\n",
    "* Chave Estrangeira (**FK**): Coluna que armazena a chave primária de outra tabela. \n",
    "\n",
    "### 2.2 Tipos de Relacionamentos\n",
    "\n",
    "* Relacionamento 1 para 1 (**1:1**): Para cada registro em uma tabela existe no máximo um outro registro equivalente em outra tabela.\n",
    "* Relacionamento 1 pra muitos (**1:***): Para cada registro em uma tabela pode existir um ou mais correspondentes na segunda tabela. Além disso, para cada registro na segunda tabela, existe apenas um registro na primeira tabela.\n",
    "* Relacionamento de muitos para muitos (<b>* : *</b>): Para cada registro em uma tabela, podem existir uma ou mais entradas na outra tabela e vice-versa.\n",
    "\n",
    "Existem algumas boas práticas nos relacionamentos, que são: \n",
    "* **Quanto menos chaves, melhor;**\n",
    "* **Transparente para o usuário;**\n",
    "\n",
    "Podemos criar uma esquematização do relaionamento das tabelas usando as seguintes representações:\n",
    "\n",
    "![ERD-Notation.png](attachment:077d77eb-a74e-412d-a719-44708303232d.png)\n",
    "\n",
    "### 2.3 Anomalias nos dados\n",
    "\n",
    "* Anomalia de Inserção: Impede a inclusão de registro devido à falta de dados. Uma maneira de resolver isso seria separar os dados presentes;\n",
    "* Anomalia de Exclusão: Impede que algum dado seja excluído devido a ele estar associado a outra tabela;\n",
    "* Anomalia de Alteração: Impede que algum dado seja alterado devido a ele estar associado a outra tabela. Uma maneira de resolver esse problema é criar uma chave interna que contém um \"ID\" que faz referência ao dado.\n",
    "\n",
    "Quando resolvemos esse tipo de problemas nós dizemos que o banco de dados foi **normalizado**, facilitando a manutenção e maximizando a performance do banco de dados ao mesmo tempo que mantém a integridade dos dados.\n",
    "\n",
    "A curto prazo, o resultado de uma normalização resulta em um maior número de tabela no banco de dados e diminui a performance, mas no longo prazo tudo isso será maximizado.\n",
    "\n",
    "#### 2.3.1 Formas normais de normalização\n",
    "\n",
    "* Primeira forma normal (1FN): Cada linha da tabela deve conter um único registro e cada célula da tabela deve conter um único valor.\n",
    "\n",
    "* Segunda forma normal (2FN): Obrigatoriamente a tabela deve estar na 1FN. Aqui, os atributos não chave da tabela devem depender de alguma das chaves da tabela.\n",
    "\n",
    "* Terceira forma normal (3FN): Parte do princípio que a tabela já esteja na forma 2FN. Aqui, atributos não chave da tabela devem depender exclusivamente da chave primária da tabela.\n",
    "\n",
    "* Quarta e Quinta forma normal (5FN): Separam em novas tabelas valores que ainda estejam redundantes em uma mesma coluna."
   ]
  },
  {
   "cell_type": "markdown",
   "id": "7f333f97-c7a1-4ab0-a292-0ea9dfc07e4e",
   "metadata": {},
   "source": [
    "## 2.4 Exercício de fixação\n",
    "\n",
    "Baseado na especificação de um sistema fictício apresentada a seguir, organize e desenhe manualmente em um papel as tabelas que fornecem uma solução adequada para a situação, normalizando o que achar necessário, indicando no desenho as chaves primárias e relacionamentos caso existam.\n",
    "\n",
    "Especificação fictícia:\n",
    "\n",
    "A Softblue (www.softblue.com.br) está contratando você como DBA (Database\n",
    "Administrator) para que você crie um banco de dados para gerenciar as matrículas dos\n",
    "alunos da Softblue. Neste banco de dados deverá estar armazenado as informações\n",
    "dos cursos disponibilizados pela Softblue, como nome, tipo (se é de banco de dados,\n",
    "programação ou outro), preço e os dados do instrutor responsável pelo curso (nome e\n",
    "e-mail).\n",
    "\n",
    "Neste mesmo banco de dados deve ser armazenado as informações dos alunos da\n",
    "Softblue (nome, endereço e e-mail) bem como todos os cursos que o aluno já se\n",
    "matriculou. Assim como no site www.softblue.com.br ocorre, deve ser possível\n",
    "comprar dois ou mais cursos em um mesmo pedido, armazenando data e hora da\n",
    "compra.\n",
    "\n",
    "Leve em consideração que todas as informações dos alunos, cursos e instrutores\n",
    "poderão ser alteradas a qualquer tempo. Popule as tabelas criadas com alguns\n",
    "exemplos fictícios.\n",
    "\n",
    "Todas as chaves estrangeiras apresentadas neste exemplo são consideradas índices."
   ]
  },
  {
   "cell_type": "code",
   "execution_count": 2,
   "id": "87c34084-2ceb-4d89-8a5d-32bfab52ded9",
   "metadata": {},
   "outputs": [],
   "source": [
    "import pandas as pd"
   ]
  },
  {
   "cell_type": "code",
   "execution_count": 37,
   "id": "fc511d46-29de-41c9-9640-96d738d15ef0",
   "metadata": {},
   "outputs": [],
   "source": [
    "cursos = [\"SQL Completo\", \"Fundamento de C#\"]\n",
    "cod_cursos = [\"C1\",\"C2\"]\n",
    "cursos_tipo = [\"Banco de Dados\",\"Programação\"]\n",
    "cursos_precos = [0.0,558.0]\n",
    "\n",
    "cod_professores = [\"P1\",\"P2\"]\n",
    "professores = [\"André Milani\",\"Carlos Tosin\"]\n",
    "email_prof = [\"milani@gmail.com\",\"tosin@gmail.com\"]\n",
    "tel_prof = [\"111\",\"222\"]\n",
    "\n",
    "cod_aluno = [\"A1\",\"A2\"]\n",
    "nome_aluno = [\"Aluno1\",\"Aluno2\"]\n",
    "email_aluno = [\"aluno1@gmail.com\",\"aluno2@gmail.com\"]\n",
    "senha_aluno = [\"senha1\",\"senha2\"]\n",
    "\n",
    "comprasU_alun = [\"C1\",\"Dia1\",\"Hora1\",\"A1\"]\n",
    "comprasD_alun = [\"C2\",\"Dia1\",\"Hora1\",\"A1\"]\n",
    "comprasT_alun = [\"C1\",\"Dia1\",\"Hora2\",\"A2\"]"
   ]
  },
  {
   "cell_type": "code",
   "execution_count": 38,
   "id": "6fedc0a9-dafe-429e-916f-a4698ac01652",
   "metadata": {},
   "outputs": [],
   "source": [
    "tab_cursos = pd.DataFrame([cod_cursos,cursos,cursos_tipo,cursos_precos,cod_professores],\n",
    "                           index=[\"cod_curso\",\"nome_curs\",\"tipo\",\"preço\",\"cod_prof\"]).T\n",
    "tab_profes = pd.DataFrame([cod_professores,professores], index=[\"cod_prof\",\"nome_prof\"]).T\n",
    "tab_mail_p = pd.DataFrame([cod_professores,email_prof], index=[\"cod_prof\",\"email_prof\"]).T\n",
    "tab_alunos = pd.DataFrame([cod_aluno,nome_aluno,email_aluno,senha_aluno],\n",
    "                          index=[\"cod_aluno\",\"nome_aluno\",\"email_aluno\",\"senha_aluno\"]).T\n",
    "tab_compras = pd.DataFrame([comprasU_alun,comprasD_alun,comprasT_alun],\n",
    "                           columns=[\"cod_curso\",\"data_compra\",\"hora_compra\",\"cod_aluno\"])"
   ]
  },
  {
   "cell_type": "code",
   "execution_count": 39,
   "id": "52182ff5-779b-4b38-a33d-f58dcf4172c8",
   "metadata": {},
   "outputs": [
    {
     "data": {
      "text/html": [
       "<div>\n",
       "<style scoped>\n",
       "    .dataframe tbody tr th:only-of-type {\n",
       "        vertical-align: middle;\n",
       "    }\n",
       "\n",
       "    .dataframe tbody tr th {\n",
       "        vertical-align: top;\n",
       "    }\n",
       "\n",
       "    .dataframe thead th {\n",
       "        text-align: right;\n",
       "    }\n",
       "</style>\n",
       "<table border=\"1\" class=\"dataframe\">\n",
       "  <thead>\n",
       "    <tr style=\"text-align: right;\">\n",
       "      <th></th>\n",
       "      <th>cod_curso</th>\n",
       "      <th>nome_curs</th>\n",
       "      <th>tipo</th>\n",
       "      <th>preço</th>\n",
       "      <th>cod_prof</th>\n",
       "    </tr>\n",
       "  </thead>\n",
       "  <tbody>\n",
       "    <tr>\n",
       "      <th>0</th>\n",
       "      <td>C1</td>\n",
       "      <td>SQL Completo</td>\n",
       "      <td>Banco de Dados</td>\n",
       "      <td>0.0</td>\n",
       "      <td>P1</td>\n",
       "    </tr>\n",
       "    <tr>\n",
       "      <th>1</th>\n",
       "      <td>C2</td>\n",
       "      <td>Fundamento de C#</td>\n",
       "      <td>Programação</td>\n",
       "      <td>558.0</td>\n",
       "      <td>P2</td>\n",
       "    </tr>\n",
       "  </tbody>\n",
       "</table>\n",
       "</div>"
      ],
      "text/plain": [
       "  cod_curso         nome_curs            tipo  preço cod_prof\n",
       "0        C1      SQL Completo  Banco de Dados    0.0       P1\n",
       "1        C2  Fundamento de C#     Programação  558.0       P2"
      ]
     },
     "execution_count": 39,
     "metadata": {},
     "output_type": "execute_result"
    }
   ],
   "source": [
    "tab_cursos"
   ]
  },
  {
   "cell_type": "code",
   "execution_count": 40,
   "id": "02db5649-88ef-4d5a-a844-b833e6ebc94d",
   "metadata": {},
   "outputs": [
    {
     "data": {
      "text/html": [
       "<div>\n",
       "<style scoped>\n",
       "    .dataframe tbody tr th:only-of-type {\n",
       "        vertical-align: middle;\n",
       "    }\n",
       "\n",
       "    .dataframe tbody tr th {\n",
       "        vertical-align: top;\n",
       "    }\n",
       "\n",
       "    .dataframe thead th {\n",
       "        text-align: right;\n",
       "    }\n",
       "</style>\n",
       "<table border=\"1\" class=\"dataframe\">\n",
       "  <thead>\n",
       "    <tr style=\"text-align: right;\">\n",
       "      <th></th>\n",
       "      <th>cod_prof</th>\n",
       "      <th>nome_prof</th>\n",
       "    </tr>\n",
       "  </thead>\n",
       "  <tbody>\n",
       "    <tr>\n",
       "      <th>0</th>\n",
       "      <td>P1</td>\n",
       "      <td>André Milani</td>\n",
       "    </tr>\n",
       "    <tr>\n",
       "      <th>1</th>\n",
       "      <td>P2</td>\n",
       "      <td>Carlos Tosin</td>\n",
       "    </tr>\n",
       "  </tbody>\n",
       "</table>\n",
       "</div>"
      ],
      "text/plain": [
       "  cod_prof     nome_prof\n",
       "0       P1  André Milani\n",
       "1       P2  Carlos Tosin"
      ]
     },
     "execution_count": 40,
     "metadata": {},
     "output_type": "execute_result"
    }
   ],
   "source": [
    "tab_profes"
   ]
  },
  {
   "cell_type": "code",
   "execution_count": 41,
   "id": "158b02e2-6f4e-4510-8fae-c8ea3a5dca5a",
   "metadata": {},
   "outputs": [
    {
     "data": {
      "text/html": [
       "<div>\n",
       "<style scoped>\n",
       "    .dataframe tbody tr th:only-of-type {\n",
       "        vertical-align: middle;\n",
       "    }\n",
       "\n",
       "    .dataframe tbody tr th {\n",
       "        vertical-align: top;\n",
       "    }\n",
       "\n",
       "    .dataframe thead th {\n",
       "        text-align: right;\n",
       "    }\n",
       "</style>\n",
       "<table border=\"1\" class=\"dataframe\">\n",
       "  <thead>\n",
       "    <tr style=\"text-align: right;\">\n",
       "      <th></th>\n",
       "      <th>cod_prof</th>\n",
       "      <th>email_prof</th>\n",
       "    </tr>\n",
       "  </thead>\n",
       "  <tbody>\n",
       "    <tr>\n",
       "      <th>0</th>\n",
       "      <td>P1</td>\n",
       "      <td>milani@gmail.com</td>\n",
       "    </tr>\n",
       "    <tr>\n",
       "      <th>1</th>\n",
       "      <td>P2</td>\n",
       "      <td>tosin@gmail.com</td>\n",
       "    </tr>\n",
       "  </tbody>\n",
       "</table>\n",
       "</div>"
      ],
      "text/plain": [
       "  cod_prof        email_prof\n",
       "0       P1  milani@gmail.com\n",
       "1       P2   tosin@gmail.com"
      ]
     },
     "execution_count": 41,
     "metadata": {},
     "output_type": "execute_result"
    }
   ],
   "source": [
    "tab_mail_p"
   ]
  },
  {
   "cell_type": "code",
   "execution_count": 42,
   "id": "0fc537da-91aa-4faa-905b-a7c324dca3c4",
   "metadata": {},
   "outputs": [
    {
     "data": {
      "text/html": [
       "<div>\n",
       "<style scoped>\n",
       "    .dataframe tbody tr th:only-of-type {\n",
       "        vertical-align: middle;\n",
       "    }\n",
       "\n",
       "    .dataframe tbody tr th {\n",
       "        vertical-align: top;\n",
       "    }\n",
       "\n",
       "    .dataframe thead th {\n",
       "        text-align: right;\n",
       "    }\n",
       "</style>\n",
       "<table border=\"1\" class=\"dataframe\">\n",
       "  <thead>\n",
       "    <tr style=\"text-align: right;\">\n",
       "      <th></th>\n",
       "      <th>cod_aluno</th>\n",
       "      <th>nome_aluno</th>\n",
       "      <th>email_aluno</th>\n",
       "      <th>senha_aluno</th>\n",
       "    </tr>\n",
       "  </thead>\n",
       "  <tbody>\n",
       "    <tr>\n",
       "      <th>0</th>\n",
       "      <td>A1</td>\n",
       "      <td>Aluno1</td>\n",
       "      <td>aluno1@gmail.com</td>\n",
       "      <td>senha1</td>\n",
       "    </tr>\n",
       "    <tr>\n",
       "      <th>1</th>\n",
       "      <td>A2</td>\n",
       "      <td>Aluno2</td>\n",
       "      <td>aluno2@gmail.com</td>\n",
       "      <td>senha2</td>\n",
       "    </tr>\n",
       "  </tbody>\n",
       "</table>\n",
       "</div>"
      ],
      "text/plain": [
       "  cod_aluno nome_aluno       email_aluno senha_aluno\n",
       "0        A1     Aluno1  aluno1@gmail.com      senha1\n",
       "1        A2     Aluno2  aluno2@gmail.com      senha2"
      ]
     },
     "execution_count": 42,
     "metadata": {},
     "output_type": "execute_result"
    }
   ],
   "source": [
    "tab_alunos"
   ]
  },
  {
   "cell_type": "code",
   "execution_count": 43,
   "id": "c41259b8-791f-48c5-9fb2-b545a7c6f35b",
   "metadata": {},
   "outputs": [
    {
     "data": {
      "text/html": [
       "<div>\n",
       "<style scoped>\n",
       "    .dataframe tbody tr th:only-of-type {\n",
       "        vertical-align: middle;\n",
       "    }\n",
       "\n",
       "    .dataframe tbody tr th {\n",
       "        vertical-align: top;\n",
       "    }\n",
       "\n",
       "    .dataframe thead th {\n",
       "        text-align: right;\n",
       "    }\n",
       "</style>\n",
       "<table border=\"1\" class=\"dataframe\">\n",
       "  <thead>\n",
       "    <tr style=\"text-align: right;\">\n",
       "      <th></th>\n",
       "      <th>cod_curso</th>\n",
       "      <th>data_compra</th>\n",
       "      <th>hora_compra</th>\n",
       "      <th>cod_aluno</th>\n",
       "    </tr>\n",
       "  </thead>\n",
       "  <tbody>\n",
       "    <tr>\n",
       "      <th>0</th>\n",
       "      <td>C1</td>\n",
       "      <td>Dia1</td>\n",
       "      <td>Hora1</td>\n",
       "      <td>A1</td>\n",
       "    </tr>\n",
       "    <tr>\n",
       "      <th>1</th>\n",
       "      <td>C2</td>\n",
       "      <td>Dia1</td>\n",
       "      <td>Hora1</td>\n",
       "      <td>A1</td>\n",
       "    </tr>\n",
       "    <tr>\n",
       "      <th>2</th>\n",
       "      <td>C1</td>\n",
       "      <td>Dia1</td>\n",
       "      <td>Hora2</td>\n",
       "      <td>A2</td>\n",
       "    </tr>\n",
       "  </tbody>\n",
       "</table>\n",
       "</div>"
      ],
      "text/plain": [
       "  cod_curso data_compra hora_compra cod_aluno\n",
       "0        C1        Dia1       Hora1        A1\n",
       "1        C2        Dia1       Hora1        A1\n",
       "2        C1        Dia1       Hora2        A2"
      ]
     },
     "execution_count": 43,
     "metadata": {},
     "output_type": "execute_result"
    }
   ],
   "source": [
    "tab_compras"
   ]
  },
  {
   "cell_type": "markdown",
   "id": "69f957f9-3e67-4ddd-ac0a-c6d82bbf0ad4",
   "metadata": {},
   "source": [
    "A maior parte está correta quando comparado a resolução, porém existem algumas melhorias:\n",
    "\n",
    "A tabela de curso poderia ser divida em duas: Uma contendo a um código do pedido, o código do aluno, a data e a hora. A segunda conteria o pedido, o código do pedido e o preço pago no momento da matrícula. \n",
    "\n",
    "A tabela do professor: Eles consideraram que o professor pode ter apenas um e-mail, sendo desnecessário uma nova tabela para cadastrar todos os e-mails possíveis do professor, o que faz sentido.\n",
    "\n",
    "A tabela de curso: O tipo do curso poderia conter um código para o curso que faz referência a uma tabela contendo o código do curso e seu tipo, isso iria poupar espaço no HD pelo menor número de caracteres presentes. "
   ]
  },
  {
   "cell_type": "markdown",
   "id": "2e26a1be-d8ad-4082-ac66-27fa655e6897",
   "metadata": {},
   "source": [
    "## 3. Aula 3 - Criando um Banco de Dados"
   ]
  },
  {
   "cell_type": "markdown",
   "id": "e4320627-a806-4bfb-bf7e-fbe2de9ac0b0",
   "metadata": {},
   "source": [
    "### 3.1 SQL ANSI, ISO e outros\n",
    "\n",
    "SQL significa **Structured Query Language**. Após sua criação, diversos \"dialetos\" surgiram. Devido a isso surgiu uma necessidade de padrozinação que ocorreu em:\n",
    "* 1986: Feita pela American National Standard Institute (ANSI);\n",
    "* 1987: Feita pela International Organization for Standardiztion (ISO);\n",
    "* 1992: Ocorreu uma revisão originando o padrão SQL-92;\n",
    "* 1999: Uma nova revisão, incorporou características de expressões regulares, queries recursivas e triggers;\n",
    "* 2003: Uma nova revisão, incorporou características de XML, sequências;\n",
    "* 2008: Uma nova revisão;\n",
    "* 2011: Uma nova revisão.\n",
    "\n",
    "Bancos de dados criam e evoluem suas próprias derivações do SQL. É por isso que o SQL ANSI é visto nesse curso, pois ele pode ser facilmente migrado de uma versão para outra.\n",
    "\n",
    "### 3.2 Tipos de dados mais comuns\n",
    "\n",
    "Veja o PDF \"Tabela_de_tipos_de_dados\", na mesma pasta deste notebook para uma lista a respeito dos tipos (Booleano, inteiros e reais).\n",
    "\n",
    "* Strings: "
   ]
  },
  {
   "cell_type": "code",
   "execution_count": 55,
   "id": "bead47cd-d6f7-44b0-a48b-b24ab2bc9eba",
   "metadata": {},
   "outputs": [
    {
     "data": {
      "text/html": [
       "<div>\n",
       "<style scoped>\n",
       "    .dataframe tbody tr th:only-of-type {\n",
       "        vertical-align: middle;\n",
       "    }\n",
       "\n",
       "    .dataframe tbody tr th {\n",
       "        vertical-align: top;\n",
       "    }\n",
       "\n",
       "    .dataframe thead th {\n",
       "        text-align: right;\n",
       "    }\n",
       "</style>\n",
       "<table border=\"1\" class=\"dataframe\">\n",
       "  <thead>\n",
       "    <tr style=\"text-align: right;\">\n",
       "      <th></th>\n",
       "      <th>MySQL</th>\n",
       "      <th>Postgre</th>\n",
       "      <th>SQL Server</th>\n",
       "      <th>Oracle</th>\n",
       "      <th>Firebird</th>\n",
       "      <th>Bytes</th>\n",
       "    </tr>\n",
       "  </thead>\n",
       "  <tbody>\n",
       "    <tr>\n",
       "      <th>CHAR</th>\n",
       "      <td>Sim</td>\n",
       "      <td>Sim</td>\n",
       "      <td>Sim</td>\n",
       "      <td>Sim</td>\n",
       "      <td>Sim</td>\n",
       "      <td>X</td>\n",
       "    </tr>\n",
       "    <tr>\n",
       "      <th>VARCHAR</th>\n",
       "      <td>Sim</td>\n",
       "      <td>Sim</td>\n",
       "      <td>Sim</td>\n",
       "      <td>Sim</td>\n",
       "      <td>Sim</td>\n",
       "      <td>X+1</td>\n",
       "    </tr>\n",
       "  </tbody>\n",
       "</table>\n",
       "</div>"
      ],
      "text/plain": [
       "        MySQL Postgre SQL Server Oracle Firebird Bytes\n",
       "CHAR      Sim     Sim        Sim    Sim      Sim     X\n",
       "VARCHAR   Sim     Sim        Sim    Sim      Sim   X+1"
      ]
     },
     "execution_count": 55,
     "metadata": {},
     "output_type": "execute_result"
    }
   ],
   "source": [
    "pd.DataFrame([[\"Sim\",\"Sim\",\"Sim\",\"Sim\",\"Sim\",\"X\"],\n",
    "              [\"Sim\",\"Sim\",\"Sim\",\"Sim\",\"Sim\",\"X+1\"]],\n",
    "             columns=[\"MySQL\",\"Postgre\",\"SQL Server\",\"Oracle\",\"Firebird\",\"Bytes\"],\n",
    "             index=[\"CHAR\",\"VARCHAR\"])"
   ]
  },
  {
   "cell_type": "markdown",
   "id": "baac61ed-92c7-4510-b0c5-c9ce17f4a1d9",
   "metadata": {},
   "source": [
    "Ou seja, se eu criar uma chave de tamanho 30 e criar do tipo **char** uma string com um tamanho 1, terei 29 espaços em branco. Variáveis do tipo **char** terão tamanho fixo independente de quanto espaço seja ocupado.\n",
    "\n",
    "Para o **varchar**, isso não ocorreria, eu iria ter um tamanho de apenas 1. Variáveis do tipo **varchar** terão seu tamanho como sendo variável. \n",
    "\n",
    "* Data e Hora:"
   ]
  },
  {
   "cell_type": "code",
   "execution_count": 60,
   "id": "86acb58c-7ba0-40df-af74-b6bf6d71c3ea",
   "metadata": {},
   "outputs": [
    {
     "data": {
      "text/html": [
       "<div>\n",
       "<style scoped>\n",
       "    .dataframe tbody tr th:only-of-type {\n",
       "        vertical-align: middle;\n",
       "    }\n",
       "\n",
       "    .dataframe tbody tr th {\n",
       "        vertical-align: top;\n",
       "    }\n",
       "\n",
       "    .dataframe thead th {\n",
       "        text-align: right;\n",
       "    }\n",
       "</style>\n",
       "<table border=\"1\" class=\"dataframe\">\n",
       "  <thead>\n",
       "    <tr style=\"text-align: right;\">\n",
       "      <th></th>\n",
       "      <th>MySQL</th>\n",
       "      <th>Postgre</th>\n",
       "      <th>SQL Server</th>\n",
       "      <th>Oracle</th>\n",
       "      <th>Firebird</th>\n",
       "      <th>Intervalo (MySQL)</th>\n",
       "      <th>Bytes</th>\n",
       "    </tr>\n",
       "  </thead>\n",
       "  <tbody>\n",
       "    <tr>\n",
       "      <th>DATE</th>\n",
       "      <td>Sim</td>\n",
       "      <td>Sim</td>\n",
       "      <td>Sim</td>\n",
       "      <td>Sim</td>\n",
       "      <td>Timestamp</td>\n",
       "      <td>\"1000-01-01\"-\"9999-12-31\" (ano,mês,dia)</td>\n",
       "      <td>3</td>\n",
       "    </tr>\n",
       "    <tr>\n",
       "      <th>TIME</th>\n",
       "      <td>Sim</td>\n",
       "      <td>Sim</td>\n",
       "      <td>Sim</td>\n",
       "      <td>Timestamp</td>\n",
       "      <td>Timestamp</td>\n",
       "      <td>\"838:59:59\" - \"838:59:59\" (hora,minuto,segundo)</td>\n",
       "      <td>3</td>\n",
       "    </tr>\n",
       "    <tr>\n",
       "      <th>DATETIME</th>\n",
       "      <td>Sim</td>\n",
       "      <td>Timestamp</td>\n",
       "      <td>Sim</td>\n",
       "      <td>Timestamp</td>\n",
       "      <td>Timestamp</td>\n",
       "      <td>\"1000-01-01 00:00:00\" - \"9999-12-31 23:59:59\"</td>\n",
       "      <td>8</td>\n",
       "    </tr>\n",
       "    <tr>\n",
       "      <th>TIMESTAMP</th>\n",
       "      <td>Sim</td>\n",
       "      <td>Sim</td>\n",
       "      <td>Sim</td>\n",
       "      <td>Sim</td>\n",
       "      <td>Sim</td>\n",
       "      <td>19700101000000-2037+</td>\n",
       "      <td>4</td>\n",
       "    </tr>\n",
       "  </tbody>\n",
       "</table>\n",
       "</div>"
      ],
      "text/plain": [
       "          MySQL    Postgre SQL Server     Oracle   Firebird  \\\n",
       "DATE        Sim        Sim        Sim        Sim  Timestamp   \n",
       "TIME        Sim        Sim        Sim  Timestamp  Timestamp   \n",
       "DATETIME    Sim  Timestamp        Sim  Timestamp  Timestamp   \n",
       "TIMESTAMP   Sim        Sim        Sim        Sim        Sim   \n",
       "\n",
       "                                           Intervalo (MySQL) Bytes  \n",
       "DATE                 \"1000-01-01\"-\"9999-12-31\" (ano,mês,dia)     3  \n",
       "TIME        \"838:59:59\" - \"838:59:59\" (hora,minuto,segundo)      3  \n",
       "DATETIME      \"1000-01-01 00:00:00\" - \"9999-12-31 23:59:59\"      8  \n",
       "TIMESTAMP                               19700101000000-2037+     4  "
      ]
     },
     "execution_count": 60,
     "metadata": {},
     "output_type": "execute_result"
    }
   ],
   "source": [
    "pd.DataFrame([[\"Sim\",\"Sim\",\"Sim\",\"Sim\",\"Timestamp\",\"\\\"1000-01-01\\\"-\\\"9999-12-31\\\" (ano,mês,dia)\",\"3\"],\n",
    "              [\"Sim\",\"Sim\",\"Sim\",\"Timestamp\",\"Timestamp\",\" \\\"838:59:59\\\" - \\\"838:59:59\\\" (hora,minuto,segundo) \",\"3\"],\n",
    "              [\"Sim\",\"Timestamp\",\"Sim\",\"Timestamp\",\"Timestamp\",\" \\\"1000-01-01 00:00:00\\\" - \\\"9999-12-31 23:59:59\\\" \",\"8\"],\n",
    "              [\"Sim\",\"Sim\",\"Sim\",\"Sim\",\"Sim\",\"19700101000000-2037+\",\"4\"]], \n",
    "              columns=[\"MySQL\",\"Postgre\",\"SQL Server\",\"Oracle\",\"Firebird\",\"Intervalo (MySQL)\",\"Bytes\"],\n",
    "              index=[\"DATE\",\"TIME\",\"DATETIME\",\"TIMESTAMP\"])"
   ]
  },
  {
   "cell_type": "markdown",
   "id": "e64ce019-9cff-4062-8a8e-f87296264a8b",
   "metadata": {},
   "source": [
    "* Listas customizadas:"
   ]
  },
  {
   "cell_type": "code",
   "execution_count": 63,
   "id": "e22f7fb6-41c1-4e1a-ac16-65a5b4660c03",
   "metadata": {},
   "outputs": [
    {
     "data": {
      "text/html": [
       "<div>\n",
       "<style scoped>\n",
       "    .dataframe tbody tr th:only-of-type {\n",
       "        vertical-align: middle;\n",
       "    }\n",
       "\n",
       "    .dataframe tbody tr th {\n",
       "        vertical-align: top;\n",
       "    }\n",
       "\n",
       "    .dataframe thead th {\n",
       "        text-align: right;\n",
       "    }\n",
       "</style>\n",
       "<table border=\"1\" class=\"dataframe\">\n",
       "  <thead>\n",
       "    <tr style=\"text-align: right;\">\n",
       "      <th></th>\n",
       "      <th>MySQL</th>\n",
       "      <th>Postgre</th>\n",
       "      <th>SQL Server</th>\n",
       "      <th>Oracle</th>\n",
       "      <th>Firebird</th>\n",
       "    </tr>\n",
       "  </thead>\n",
       "  <tbody>\n",
       "    <tr>\n",
       "      <th>ENUM</th>\n",
       "      <td>Sim</td>\n",
       "      <td>Sim</td>\n",
       "      <td>Não Tem</td>\n",
       "      <td>Sim</td>\n",
       "      <td>Não tem</td>\n",
       "    </tr>\n",
       "  </tbody>\n",
       "</table>\n",
       "</div>"
      ],
      "text/plain": [
       "     MySQL Postgre SQL Server Oracle Firebird\n",
       "ENUM   Sim     Sim    Não Tem    Sim  Não tem"
      ]
     },
     "execution_count": 63,
     "metadata": {},
     "output_type": "execute_result"
    }
   ],
   "source": [
    "pd.DataFrame([[\"Sim\",\"Sim\",\"Não Tem\",\"Sim\",\"Não tem\"]],\n",
    "             columns=[\"MySQL\",\"Postgre\",\"SQL Server\",\"Oracle\",\"Firebird\"],\n",
    "             index=[\"ENUM\"])"
   ]
  },
  {
   "cell_type": "markdown",
   "id": "2f450b16-6fd5-4afa-b8a2-b9c93bd2f5a1",
   "metadata": {},
   "source": [
    "### 3.3 Outro tipos importantes de dados\n",
    "\n",
    "* BLOB: Permite o armazenamento de informações binárias, arquivos e imagens;\n",
    "* TEXT: Simular aos tipos **char** e **varchar**, visto que trabalha com dados do tipo string. Porém, ele armazena strings de tamanho muito grande (como textos ou livros completos);\n",
    "* Redes: Permite o armazenamento de endereços de IP, MAC-ADDRESS e outros;\n",
    "* Monetários: Permite o armazenamento de valores monetários com formatação.\n",
    "* Geométricos: Permite o armazenamento de informações de formas geométricas."
   ]
  },
  {
   "cell_type": "markdown",
   "id": "ec5caecd-8244-474a-9f44-96396290e40e",
   "metadata": {},
   "source": [
    "### 3.4 Atributos\n",
    "\n",
    "* Null/Not Null: Permite ou não valores nulos;\n",
    "* Unsigned/Sigend: Permite (signed) ou não valores negativos (unsigned);\n",
    "* Auto-Incremento: Incrementa, de forma automática, certos campos (útil para criar sequências/contadores).\n",
    "* Zerofill: Completa o valor em questão com zeros à esquerda.\n",
    "\n",
    "*Zeros à esquerda:* Digítos 0 que vem antes do primeiro dígito diferente de zero em uma sequência numérica na notação posicional."
   ]
  },
  {
   "cell_type": "markdown",
   "id": "74f13c0f-b2e1-4501-a483-ac87d9443cf8",
   "metadata": {},
   "source": [
    "### 3.5 Boas práticas de armazenamento em disco\n",
    "\n",
    "**Bons usos**\n",
    "* Observação do espaço em disco: Tentar utilizar o tipo de dado que necessita do menor espaço possível (Ou seja, se quero cadastrar idades eu uso o tipo Tinyint (1byte) ao invés de doublefoat (8bytes);\n",
    "* Processamento e busca: Quanto menor o tipo de dado, mais rápido é o processamento;\n",
    "\n",
    "**Maus usos**\n",
    "* Armazenar dados numéricos em colunas string;\n",
    "* Armazenar dados numéricos em campos maiores que o necessário;\n",
    "* Criar campos de string maiores que o necessário."
   ]
  },
  {
   "cell_type": "markdown",
   "id": "8822f796-4ab3-429b-8445-5b5fdd441aef",
   "metadata": {},
   "source": [
    "### 3.6 Comandos para a criação do banco de dados\n",
    "\n",
    "Esses comandos pertencem a linguagem DDL (Linguagem de definição do banco de dados).\n",
    "\n",
    "* Create - Criar estruturas no banco de dados;\n",
    "    - **CREATE DATABASE** *NomeDoBanco*: O nome não deve ter espaços ou caracteres especiais, contudo alguns caracteres especiais como acentos e cedilhas podem ser utilizados, mas para isso devemos especificar o conjunto de caracteres. Os conjuntos mais utilizados são Latin1 e UTF-8. \n",
    "* Alter - Permite alterar estruturas previamente criadas;\n",
    "    - **ALTER DATABASE** *NomeDoBanco* *PropriedadeQueSeráAlterada*.\n",
    "* Drop - Permite **excluir estruturas** (não confundir com o comando Delete, que exclui dados).\n",
    "    - **DROP DATABASE** *NomeDoBanco* - Tomemos cuidado que essa exclusão é definitiva e irreversível.\n",
    "    \n",
    "Exemplo de criação de uma **tabela**:\n",
    "* **CREATE TABLE** *NomeDaTabela* *(Campos)* - Para mais de um campo iremos separar cada definição do campo utilizando vírgulas entre os parenteses do comando Create Table;\n",
    "    - A sintaxe da descrição de campo deve ser feita na ordem: *Nome* *TipoDeDado* *Atributos*\n",
    "* Os principais **atributos** são: Null, Zerofill, Unsigned, Auto-Incremento, Chave(Key);\n",
    "* **ALTER TABLE** *NomeDaTabela* *PropriedadeQueSeráAlterada*: Usado para alterar tabelas;\n",
    "* **DROP TABLE** *NomeDaTabela*: É irreversível, usado para excluir tabelas.\n",
    "\n",
    "A tabela **Pessoas** contém dois campos:\n",
    "* CPF que contém dois atributos (Not-Null e Primary Key);\n",
    "* Nome que contém um atributo (Not-Null)."
   ]
  },
  {
   "cell_type": "markdown",
   "id": "0ac8e326-cb7e-4fcc-b3da-7e7fcbc0e631",
   "metadata": {},
   "source": [
    "### 3.7 Criando um Índice\n",
    "\n",
    "* O que são índices? Índices são estruturas do campo de dados que processam e armazenam, de forma isolada, o ordenamento dos registros de uma tabela específica, baseando-se no campo em que o índice foi criado. Geralmente esses dados são armazenados por ordem de chegada. \n",
    "\n",
    "* Para criarmos um índice usamos **CREATE INDEX** *Nome* **ON** *TabelaEColuna*;\n",
    "* Para alterarmos informações de um índice usamos **ALTER INDEX** *NomeDoÍndice* *PropriedadeASerAlterada*;\n",
    "* Para excluir um índice usamos **DROP INDEX** *NomeDoÍndice*: Essa remove apenas o **índice** e questão, mas não os dados na tabela usados para armazenar os registros."
   ]
  },
  {
   "cell_type": "markdown",
   "id": "b31e3e24-b65d-427d-9aff-9a097e91a8f7",
   "metadata": {},
   "source": [
    "### 3.8 Criando sequências\n",
    "\n",
    "\n",
    "* O que são sequências: Sequência é como um campo auto-incremento, é um número que ao ser utilizado será incrementado pelo número definido em sua criação. \n",
    "\n",
    "* Para criar sequências usamos o comando **CREATE SEQUENCE** *NomeDaSequência*;\n",
    "* Para alterarmos uma sequência usamos o comando **ALTER SEQUENCE** *NomeDaSequência* *PropriedadeASerAlterada*;\n",
    "* Para excluirmos uma sequencia usamos **DROP SEQUENCE** *NomeDaSequência*."
   ]
  },
  {
   "cell_type": "markdown",
   "id": "f3180951-b515-4304-a827-e073cd3e8ff7",
   "metadata": {},
   "source": [
    "## 4. Aula 4 - Manipulação de dados\n",
    "\n",
    "Nesse módulo iremos ver como manipular os dados em tabelas criadas. Para isso iremos usar a **DML** e a **DQL**."
   ]
  },
  {
   "cell_type": "markdown",
   "id": "9d132107-1e74-4e4d-92f4-d15032413436",
   "metadata": {},
   "source": [
    "### 4.1 DML e DQL\n",
    "\n",
    "* **DML:** Os comandos utilizados serão: \n",
    "    - **INSERT**: A sintaxe desse comando é\n",
    "        - INSERT INTO tabela VALUES (valor[1], valor[2], ..., valor[n]): Não define a ordem em que os valores são colocados;\n",
    "        - INSERT INTO tabela (coluna[n], coluna[n-1], ..., coluna[1]) VALUES (valor[n], valor[n-1], ..., valor1).\n",
    "    - **UPDATE**: A sintaxe desse comando é\n",
    "        - UPDATE tabela SET CampoASerAlterado == 'NovoValor': Dessa forma, altera todos os registros da tabela.\n",
    "    - **DELETE**: A sintaxe desse comando é\n",
    "        - DELETE FROM tabela: Dessa forma, deleta todos os registros da tabela.\n",
    "* **DQL:** Os comandos utilizados será o **SELECT**. Esse comando além de permitir a seleção de dados, podemos usar ele para filtragem dos registros.\n",
    "    - **SELECT**: A sintaxe desse comando é:\n",
    "        - SELECT * FROM tabela: Seleciona todos os campos da tabela;\n",
    "        - SELECT campo FROM tabela: Seleciona uma coluna em específico. \n",
    "        \n",
    "Notemos que aqui nós não **especificamos o registro** a ser alterado. Para fazermos essa específicação devemos utilizar **filtros de seleção**."
   ]
  },
  {
   "cell_type": "markdown",
   "id": "35660f37-5e55-4c14-a713-20a5761a1555",
   "metadata": {},
   "source": [
    "### 4.2 Filtros de seleção\n",
    "\n",
    "Para selecionaros registros específicos devemos usar o comando **WHERE** através de operadores.\n",
    "\n",
    "* Operadores relacionais: \n",
    "    - Igual (**=**), diferente (**!=**);\n",
    "    - Maior (**>**) ou igual (**>=**);\n",
    "    - Menor (**<**) ou igual (**<=**);\n",
    "    - Nulo (**IS NULL**);\n",
    "    - Não nulo (**IS NOT NULL**);\n",
    "    - Entre um intervalo (**BETWEEN**);\n",
    "    - Valor parcial (**LIKE**);\n",
    "* Operadores Lógicos;\n",
    "    - AND;\n",
    "    - OR;\n",
    "    - NOT;"
   ]
  },
  {
   "cell_type": "markdown",
   "id": "ac52c60d-19f1-45f1-97ad-103c767c0cb4",
   "metadata": {},
   "source": [
    "### 4.3 Consultando dados com filtros\n",
    "\n",
    "* SELECT **campo** FROM **tabela** WHERE **condição**;\n",
    "* SELECT * FROM pessoas WHERE cpf='111.111.111';\n",
    "* SELECT nome FROM pessoas WHERE idade>20;\n",
    "\n",
    "- UPDATE **tabela** SET **campo = valor** WHERE **condição**;\n",
    "- UPDATE pessoas SET nome='Fabio' WHERE cpf='222.222.222';\n",
    "- UPDATE pessoas SET idade=25 WHERE nome='Mario';\n",
    "\n",
    "* DELETE FROM **tabela** WHERE **condição**; \n",
    "* DELETE FROM pessoas WHERE cpf='222.222.222';"
   ]
  },
  {
   "cell_type": "markdown",
   "id": "df8d855c-63d2-4c80-bc9b-417a6cbe182a",
   "metadata": {},
   "source": [
    "### 4.4 Atributos Especiais\n",
    "\n",
    "* Apelido de Tabelas - Serve para auxiliar a escrita do comando quando tivermos muitas tabelas.\n",
    "    - SELECT **campos** FROM **tabela** **apelido_da_tabela**\n",
    "        - SELECT tabela_um.nome FROM pessoas tabela_um: A tabela se chama \"pessoas\", apelido ela de \"tabela_um\" e ao selecionar tabela_um.nome eu pego a coluna \"nome\" dessa tabela.\n",
    "        \n",
    "* Apelido de Campos - Praticamente a mesma coisa que o anterior.\n",
    "    - SELECT **campo** AS **apelido** FROM **tabela**;\n",
    "        - SELECT nome AS primeiro_nome FROM pessoas: Da tabela \"pessoas\", eu seleciono o atributo \"nome\" e dou a ele o apelido \"primeiro_nome\".\n",
    "        \n",
    "* Unindo seleções - Digamos que queremos unir colunas de tabelas distintas, para isso usamos esse comando. Por padrão, o comando **UNION** não pega resultados duplicados, caso queiramos esses resultados devemos usar **UNION [ALL]**.\n",
    "    - SELECT (sintaxe usual) **UNION** SELECT (sintaxe usual).\n",
    "        - SELECT * FROM pessoas UNION SELECT * FROM cargos."
   ]
  },
  {
   "cell_type": "code",
   "execution_count": null,
   "id": "94810ca2-59ef-4ffb-ab66-73642fef01c3",
   "metadata": {},
   "outputs": [],
   "source": []
  }
 ],
 "metadata": {
  "kernelspec": {
   "display_name": "Python 3",
   "language": "python",
   "name": "python3"
  },
  "language_info": {
   "codemirror_mode": {
    "name": "ipython",
    "version": 3
   },
   "file_extension": ".py",
   "mimetype": "text/x-python",
   "name": "python",
   "nbconvert_exporter": "python",
   "pygments_lexer": "ipython3",
   "version": "3.8.8"
  }
 },
 "nbformat": 4,
 "nbformat_minor": 5
}
