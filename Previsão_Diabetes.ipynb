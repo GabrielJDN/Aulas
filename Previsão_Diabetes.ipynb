{
 "cells": [
  {
   "cell_type": "markdown",
   "id": "6cd057d4-f53d-4cb5-9152-38849eb15ee2",
   "metadata": {},
   "source": [
    "# Sumário\n",
    "\n",
    "[1. O problema a ser enfrentado](#1.-O-problema-a-ser-enfrentado)\n",
    "\n",
    "[2. Carregando os arquivos de dados](#2.-Carregando-os-arquivos-de-dados)\n",
    "\n",
    "[2.1 Exploração, tratamento e limpeza dos dados](#2.1-Exploração,-tratamento-e-limpeza-dos-dados)\n",
    "\n",
    "[3. Treinamento do modelo](#3.-Treinamento-do-modelo)\n",
    "\n",
    "[3.1 Treinando o modelo com Naive Bayes](#3.1-Treinando-o-modelo-com-Naive-Bayes)\n",
    "\n",
    "[3.2 Otimizando o modelo com RandomForest](#3.2-Otimizando-o-modelo-com-RandomForest)\n",
    "\n",
    "[3.3 Utilizando o algoritmo de Regressão Logística](#3.3-Utilizando-o-algoritmo-de-Regressão-Logística)\n",
    "\n",
    "[3.4 Conclusões](#3.4-Conclusões)"
   ]
  },
  {
   "cell_type": "markdown",
   "id": "14d5a59c-816e-46c7-83e8-92073e5635b9",
   "metadata": {},
   "source": [
    "## 1. O problema a ser enfrentado\n",
    "\n",
    "Nesse notebook irei utilizar dados obtidos do <a href=https://www.kaggle.com/datasets/uciml/pima-indians-diabetes-database> Kaggle </a> a respeito de pessoas com ancestralidade relacionada a tribo <a href=https://en.wikipedia.org/wiki/Pima_people>Pima</a>, uma tribo indígena estadunidense. \n",
    "\n",
    "Esse dataset nos permite analisar a possibilidade do desenvolvimento de diabetes em mulheres maiores de 21 anos de idade pertencentes a essa linhagem. Através dos resultados obtidos podemos obter os seguintes insights:\n",
    "\n",
    "* Novas políticas públicas relacionadas a diabetes para o setor governamental;\n",
    "* Previsão da demanda de medicamentos para empresas farmacêuticas;\n",
    "* Auxilio na política de preços de medicamentes para empresas farmacêuticas;\n",
    "\n",
    "Iremos tentar criar um modelo de ML que irá prever a possibilidade do desenvolvimento de diabetes com pelo menos 70% de acurácia."
   ]
  },
  {
   "cell_type": "markdown",
   "id": "5a948e49-11b3-4d31-83d1-a4edc09731f1",
   "metadata": {},
   "source": [
    "## 2. Carregando os arquivos de dados"
   ]
  },
  {
   "cell_type": "code",
   "execution_count": 34,
   "id": "4a61d3fc-4416-49d7-814b-31abbb7f4753",
   "metadata": {},
   "outputs": [],
   "source": [
    "#Bibliotecas úteis para uma análise inicial dos dados.\n",
    "import numpy as np\n",
    "import pandas as pd\n",
    "import matplotlib.pyplot as plt\n",
    "import seaborn as sns"
   ]
  },
  {
   "cell_type": "code",
   "execution_count": 35,
   "id": "c0f0f40a-0e46-4c7d-b9d6-ad0da5c6e16e",
   "metadata": {},
   "outputs": [],
   "source": [
    "path = \"pima-data.csv\"\n",
    "dataframe_or = pd.read_csv(path)"
   ]
  },
  {
   "cell_type": "code",
   "execution_count": 36,
   "id": "d0578bdc-388f-4fab-bf1a-612e4561c3cd",
   "metadata": {},
   "outputs": [
    {
     "data": {
      "text/html": [
       "<div>\n",
       "<style scoped>\n",
       "    .dataframe tbody tr th:only-of-type {\n",
       "        vertical-align: middle;\n",
       "    }\n",
       "\n",
       "    .dataframe tbody tr th {\n",
       "        vertical-align: top;\n",
       "    }\n",
       "\n",
       "    .dataframe thead th {\n",
       "        text-align: right;\n",
       "    }\n",
       "</style>\n",
       "<table border=\"1\" class=\"dataframe\">\n",
       "  <thead>\n",
       "    <tr style=\"text-align: right;\">\n",
       "      <th></th>\n",
       "      <th>num_preg</th>\n",
       "      <th>glucose_conc</th>\n",
       "      <th>diastolic_bp</th>\n",
       "      <th>thickness</th>\n",
       "      <th>insulin</th>\n",
       "      <th>bmi</th>\n",
       "      <th>diab_pred</th>\n",
       "      <th>age</th>\n",
       "      <th>skin</th>\n",
       "      <th>diabetes</th>\n",
       "    </tr>\n",
       "  </thead>\n",
       "  <tbody>\n",
       "    <tr>\n",
       "      <th>0</th>\n",
       "      <td>6</td>\n",
       "      <td>148</td>\n",
       "      <td>72</td>\n",
       "      <td>35</td>\n",
       "      <td>0</td>\n",
       "      <td>33.6</td>\n",
       "      <td>0.627</td>\n",
       "      <td>50</td>\n",
       "      <td>1.3780</td>\n",
       "      <td>True</td>\n",
       "    </tr>\n",
       "    <tr>\n",
       "      <th>1</th>\n",
       "      <td>1</td>\n",
       "      <td>85</td>\n",
       "      <td>66</td>\n",
       "      <td>29</td>\n",
       "      <td>0</td>\n",
       "      <td>26.6</td>\n",
       "      <td>0.351</td>\n",
       "      <td>31</td>\n",
       "      <td>1.1426</td>\n",
       "      <td>False</td>\n",
       "    </tr>\n",
       "    <tr>\n",
       "      <th>2</th>\n",
       "      <td>8</td>\n",
       "      <td>183</td>\n",
       "      <td>64</td>\n",
       "      <td>0</td>\n",
       "      <td>0</td>\n",
       "      <td>23.3</td>\n",
       "      <td>0.672</td>\n",
       "      <td>32</td>\n",
       "      <td>0.0000</td>\n",
       "      <td>True</td>\n",
       "    </tr>\n",
       "  </tbody>\n",
       "</table>\n",
       "</div>"
      ],
      "text/plain": [
       "   num_preg  glucose_conc  diastolic_bp  thickness  insulin   bmi  diab_pred  \\\n",
       "0         6           148            72         35        0  33.6      0.627   \n",
       "1         1            85            66         29        0  26.6      0.351   \n",
       "2         8           183            64          0        0  23.3      0.672   \n",
       "\n",
       "   age    skin  diabetes  \n",
       "0   50  1.3780      True  \n",
       "1   31  1.1426     False  \n",
       "2   32  0.0000      True  "
      ]
     },
     "execution_count": 36,
     "metadata": {},
     "output_type": "execute_result"
    }
   ],
   "source": [
    "dataframe_or.head(3)"
   ]
  },
  {
   "cell_type": "markdown",
   "id": "54127f54-84ab-4a7b-b955-dfb64bb5a808",
   "metadata": {},
   "source": [
    "Cada coluna dentro do dataset apresenta o seguinte significado:\n",
    "\n",
    "* num_preg -> Número de gestações\n",
    "* glucose_conc -> Mede a concentração de glicose no sangue após duas horas em um teste de tolerância à glicose;\n",
    "* diastolic_bp -> Pressão sanguínea;\n",
    "* thickness -> Espessura da dobra cutânea do triceps (em mm);\n",
    "* insulin -> Um soro de insulina que dura em torno de duas horas.\n",
    "* bmi -> Indíce de massa corporal; \n",
    "* diab_pred -> Função \"Diabetes Pedigree\", que tenta obter a possibilidade do paciente desenvolver diabete baseando-se em dados familiares históricos;\n",
    "* age -> Idade;\n",
    "* skin -> (????) \n",
    "* diabetes -> Tem apenas dois valores, verdadeiro e falso. Basicamente são nossos dados de saída para o treinamento de um modelo de ML supervisionado."
   ]
  },
  {
   "cell_type": "code",
   "execution_count": 37,
   "id": "42f1006c-8942-4f8a-af4d-686ee0a0f842",
   "metadata": {},
   "outputs": [
    {
     "name": "stdout",
     "output_type": "stream",
     "text": [
      "<class 'pandas.core.frame.DataFrame'>\n",
      "RangeIndex: 768 entries, 0 to 767\n",
      "Data columns (total 10 columns):\n",
      " #   Column        Non-Null Count  Dtype  \n",
      "---  ------        --------------  -----  \n",
      " 0   num_preg      768 non-null    int64  \n",
      " 1   glucose_conc  768 non-null    int64  \n",
      " 2   diastolic_bp  768 non-null    int64  \n",
      " 3   thickness     768 non-null    int64  \n",
      " 4   insulin       768 non-null    int64  \n",
      " 5   bmi           768 non-null    float64\n",
      " 6   diab_pred     768 non-null    float64\n",
      " 7   age           768 non-null    int64  \n",
      " 8   skin          768 non-null    float64\n",
      " 9   diabetes      768 non-null    bool   \n",
      "dtypes: bool(1), float64(3), int64(6)\n",
      "memory usage: 54.9 KB\n"
     ]
    }
   ],
   "source": [
    "dataframe_or.info()"
   ]
  },
  {
   "cell_type": "markdown",
   "id": "c9e9c619-f472-4d9e-8b89-c57b7e8b84e6",
   "metadata": {},
   "source": [
    "Agora, existe algum valor nulo neste dataset?"
   ]
  },
  {
   "cell_type": "code",
   "execution_count": 38,
   "id": "ef1bf0a0-7065-45de-b03d-d7079bf454da",
   "metadata": {},
   "outputs": [
    {
     "data": {
      "text/plain": [
       "num_preg        False\n",
       "glucose_conc    False\n",
       "diastolic_bp    False\n",
       "thickness       False\n",
       "insulin         False\n",
       "bmi             False\n",
       "diab_pred       False\n",
       "age             False\n",
       "skin            False\n",
       "diabetes        False\n",
       "dtype: bool"
      ]
     },
     "execution_count": 38,
     "metadata": {},
     "output_type": "execute_result"
    }
   ],
   "source": [
    "dataframe_or.isnull().any()"
   ]
  },
  {
   "cell_type": "markdown",
   "id": "ffc9ffb7-ac28-4627-926c-8a934f1b0b5e",
   "metadata": {},
   "source": [
    "### 2.1 Exploração, tratamento e limpeza dos dados"
   ]
  },
  {
   "cell_type": "markdown",
   "id": "d6e585f1-ce67-4f69-beb1-d73e3135f82b",
   "metadata": {},
   "source": [
    "Como podemos ver, não. Todos os dados em cada coluna apresentam algum tipo de valores. Agora, como essas variáveis se correlacionam?"
   ]
  },
  {
   "cell_type": "code",
   "execution_count": 39,
   "id": "046f1de4-bb17-4e36-8339-0f609af21a1a",
   "metadata": {},
   "outputs": [
    {
     "data": {
      "image/png": "[encoded data removed]",
      "text/plain": [
       "<Figure size 1296x576 with 2 Axes>"
      ]
     },
     "metadata": {
      "needs_background": "light"
     },
     "output_type": "display_data"
    }
   ],
   "source": [
    "plt.figure(figsize=(18, 8))\n",
    "mask = np.triu(np.ones_like(dataframe_or.corr(), dtype=bool))\n",
    "heatmap = sns.heatmap(data = dataframe_or.corr(), mask = mask, annot = True, vmin = -1, vmax = 1, cmap = \"BrBG\")\n",
    "heatmap.set_title(\"Correlação\", fontdict={\"size\":15})\n",
    "plt.show()"
   ]
  },
  {
   "cell_type": "markdown",
   "id": "e0413c86-d511-4ffd-8950-561e6bd6ca83",
   "metadata": {},
   "source": [
    "Podemos notar que o nível de glicose no sangue (glucose_conc), o índice de massa corporal (bmi), a idade (age), o número de gestações (num_preg) e o histórico familiar de diabetes (diab_pred) apresentam uma maior correlação com o desenvolvimento de diabetes. Com essa correlação em mãos via heatmap, podemos ter uma ideia de quais são as variáveis relevantes para a criação de um modelo de Machine Learning."
   ]
  },
  {
   "cell_type": "code",
   "execution_count": 40,
   "id": "8d373b1f-6739-4a5a-8dad-650870fc8390",
   "metadata": {},
   "outputs": [
    {
     "data": {
      "text/html": [
       "<div>\n",
       "<style scoped>\n",
       "    .dataframe tbody tr th:only-of-type {\n",
       "        vertical-align: middle;\n",
       "    }\n",
       "\n",
       "    .dataframe tbody tr th {\n",
       "        vertical-align: top;\n",
       "    }\n",
       "\n",
       "    .dataframe thead th {\n",
       "        text-align: right;\n",
       "    }\n",
       "</style>\n",
       "<table border=\"1\" class=\"dataframe\">\n",
       "  <thead>\n",
       "    <tr style=\"text-align: right;\">\n",
       "      <th></th>\n",
       "      <th>num_preg</th>\n",
       "      <th>glucose_conc</th>\n",
       "      <th>diastolic_bp</th>\n",
       "      <th>thickness</th>\n",
       "      <th>insulin</th>\n",
       "      <th>bmi</th>\n",
       "      <th>diab_pred</th>\n",
       "      <th>age</th>\n",
       "      <th>skin</th>\n",
       "      <th>diabetes</th>\n",
       "    </tr>\n",
       "  </thead>\n",
       "  <tbody>\n",
       "    <tr>\n",
       "      <th>num_preg</th>\n",
       "      <td>1.000000</td>\n",
       "      <td>0.129459</td>\n",
       "      <td>0.141282</td>\n",
       "      <td>-0.081672</td>\n",
       "      <td>-0.073535</td>\n",
       "      <td>0.017683</td>\n",
       "      <td>-0.033523</td>\n",
       "      <td>0.544341</td>\n",
       "      <td>-0.081673</td>\n",
       "      <td>0.221898</td>\n",
       "    </tr>\n",
       "    <tr>\n",
       "      <th>glucose_conc</th>\n",
       "      <td>0.129459</td>\n",
       "      <td>1.000000</td>\n",
       "      <td>0.152590</td>\n",
       "      <td>0.057328</td>\n",
       "      <td>0.331357</td>\n",
       "      <td>0.221071</td>\n",
       "      <td>0.137337</td>\n",
       "      <td>0.263514</td>\n",
       "      <td>0.057326</td>\n",
       "      <td>0.466581</td>\n",
       "    </tr>\n",
       "    <tr>\n",
       "      <th>diastolic_bp</th>\n",
       "      <td>0.141282</td>\n",
       "      <td>0.152590</td>\n",
       "      <td>1.000000</td>\n",
       "      <td>0.207371</td>\n",
       "      <td>0.088933</td>\n",
       "      <td>0.281805</td>\n",
       "      <td>0.041265</td>\n",
       "      <td>0.239528</td>\n",
       "      <td>0.207371</td>\n",
       "      <td>0.065068</td>\n",
       "    </tr>\n",
       "    <tr>\n",
       "      <th>thickness</th>\n",
       "      <td>-0.081672</td>\n",
       "      <td>0.057328</td>\n",
       "      <td>0.207371</td>\n",
       "      <td>1.000000</td>\n",
       "      <td>0.436783</td>\n",
       "      <td>0.392573</td>\n",
       "      <td>0.183928</td>\n",
       "      <td>-0.113970</td>\n",
       "      <td>1.000000</td>\n",
       "      <td>0.074752</td>\n",
       "    </tr>\n",
       "    <tr>\n",
       "      <th>insulin</th>\n",
       "      <td>-0.073535</td>\n",
       "      <td>0.331357</td>\n",
       "      <td>0.088933</td>\n",
       "      <td>0.436783</td>\n",
       "      <td>1.000000</td>\n",
       "      <td>0.197859</td>\n",
       "      <td>0.185071</td>\n",
       "      <td>-0.042163</td>\n",
       "      <td>0.436785</td>\n",
       "      <td>0.130548</td>\n",
       "    </tr>\n",
       "    <tr>\n",
       "      <th>bmi</th>\n",
       "      <td>0.017683</td>\n",
       "      <td>0.221071</td>\n",
       "      <td>0.281805</td>\n",
       "      <td>0.392573</td>\n",
       "      <td>0.197859</td>\n",
       "      <td>1.000000</td>\n",
       "      <td>0.140647</td>\n",
       "      <td>0.036242</td>\n",
       "      <td>0.392574</td>\n",
       "      <td>0.292695</td>\n",
       "    </tr>\n",
       "    <tr>\n",
       "      <th>diab_pred</th>\n",
       "      <td>-0.033523</td>\n",
       "      <td>0.137337</td>\n",
       "      <td>0.041265</td>\n",
       "      <td>0.183928</td>\n",
       "      <td>0.185071</td>\n",
       "      <td>0.140647</td>\n",
       "      <td>1.000000</td>\n",
       "      <td>0.033561</td>\n",
       "      <td>0.183927</td>\n",
       "      <td>0.173844</td>\n",
       "    </tr>\n",
       "    <tr>\n",
       "      <th>age</th>\n",
       "      <td>0.544341</td>\n",
       "      <td>0.263514</td>\n",
       "      <td>0.239528</td>\n",
       "      <td>-0.113970</td>\n",
       "      <td>-0.042163</td>\n",
       "      <td>0.036242</td>\n",
       "      <td>0.033561</td>\n",
       "      <td>1.000000</td>\n",
       "      <td>-0.113973</td>\n",
       "      <td>0.238356</td>\n",
       "    </tr>\n",
       "    <tr>\n",
       "      <th>skin</th>\n",
       "      <td>-0.081673</td>\n",
       "      <td>0.057326</td>\n",
       "      <td>0.207371</td>\n",
       "      <td>1.000000</td>\n",
       "      <td>0.436785</td>\n",
       "      <td>0.392574</td>\n",
       "      <td>0.183927</td>\n",
       "      <td>-0.113973</td>\n",
       "      <td>1.000000</td>\n",
       "      <td>0.074750</td>\n",
       "    </tr>\n",
       "    <tr>\n",
       "      <th>diabetes</th>\n",
       "      <td>0.221898</td>\n",
       "      <td>0.466581</td>\n",
       "      <td>0.065068</td>\n",
       "      <td>0.074752</td>\n",
       "      <td>0.130548</td>\n",
       "      <td>0.292695</td>\n",
       "      <td>0.173844</td>\n",
       "      <td>0.238356</td>\n",
       "      <td>0.074750</td>\n",
       "      <td>1.000000</td>\n",
       "    </tr>\n",
       "  </tbody>\n",
       "</table>\n",
       "</div>"
      ],
      "text/plain": [
       "              num_preg  glucose_conc  diastolic_bp  thickness   insulin  \\\n",
       "num_preg      1.000000      0.129459      0.141282  -0.081672 -0.073535   \n",
       "glucose_conc  0.129459      1.000000      0.152590   0.057328  0.331357   \n",
       "diastolic_bp  0.141282      0.152590      1.000000   0.207371  0.088933   \n",
       "thickness    -0.081672      0.057328      0.207371   1.000000  0.436783   \n",
       "insulin      -0.073535      0.331357      0.088933   0.436783  1.000000   \n",
       "bmi           0.017683      0.221071      0.281805   0.392573  0.197859   \n",
       "diab_pred    -0.033523      0.137337      0.041265   0.183928  0.185071   \n",
       "age           0.544341      0.263514      0.239528  -0.113970 -0.042163   \n",
       "skin         -0.081673      0.057326      0.207371   1.000000  0.436785   \n",
       "diabetes      0.221898      0.466581      0.065068   0.074752  0.130548   \n",
       "\n",
       "                   bmi  diab_pred       age      skin  diabetes  \n",
       "num_preg      0.017683  -0.033523  0.544341 -0.081673  0.221898  \n",
       "glucose_conc  0.221071   0.137337  0.263514  0.057326  0.466581  \n",
       "diastolic_bp  0.281805   0.041265  0.239528  0.207371  0.065068  \n",
       "thickness     0.392573   0.183928 -0.113970  1.000000  0.074752  \n",
       "insulin       0.197859   0.185071 -0.042163  0.436785  0.130548  \n",
       "bmi           1.000000   0.140647  0.036242  0.392574  0.292695  \n",
       "diab_pred     0.140647   1.000000  0.033561  0.183927  0.173844  \n",
       "age           0.036242   0.033561  1.000000 -0.113973  0.238356  \n",
       "skin          0.392574   0.183927 -0.113973  1.000000  0.074750  \n",
       "diabetes      0.292695   0.173844  0.238356  0.074750  1.000000  "
      ]
     },
     "execution_count": 40,
     "metadata": {},
     "output_type": "execute_result"
    }
   ],
   "source": [
    "dataframe_or.corr()"
   ]
  },
  {
   "cell_type": "markdown",
   "id": "a97bf19e-f497-49bf-8513-979ae14df0d3",
   "metadata": {},
   "source": [
    "Agora, vamos ver, visualmente, o desenvolvimento de diabetes utilizando alguns fatores."
   ]
  },
  {
   "cell_type": "code",
   "execution_count": 41,
   "id": "348cc0db-0bcb-43f8-a5d3-5eaee119f7fc",
   "metadata": {},
   "outputs": [
    {
     "data": {
      "image/png": "[encoded data removed]",
      "text/plain": [
       "<Figure size 720x576 with 1 Axes>"
      ]
     },
     "metadata": {
      "needs_background": "light"
     },
     "output_type": "display_data"
    }
   ],
   "source": [
    "plt.figure(figsize=(10,8))\n",
    "sns.histplot(data=dataframe_or, x=\"glucose_conc\", hue=\"diabetes\")\n",
    "plt.xlabel(\"Concentração de glicose no sangue\", fontdict={\"size\":15})\n",
    "plt.ylabel(\"Número de pessoas\", fontdict={\"size\":15})\n",
    "plt.tick_params(axis=\"both\", labelsize=13)\n",
    "plt.legend([\"Sim\",\"Não\"], title=\"Diabetes\")\n",
    "plt.title(\"Desenvolvimento de diabetes por faixa de concentração de glicose no sangue\",fontdict={\"size\":15})\n",
    "plt.show()"
   ]
  },
  {
   "cell_type": "markdown",
   "id": "5d29044e-76f4-4d2a-afea-15f7b82d02ed",
   "metadata": {},
   "source": [
    "Vejamos que temos uma concentração de glicose no sangue \"nula\" no gráfico anterior e uma grande faixa que vai até em torno de 50 onde não temos nada, isso indica que talvez algum erro possa ter ocorrido na hora dos dados serem adicionados ao dataset. Esses tipos de valores são chamados de **valores missing ocultos**."
   ]
  },
  {
   "cell_type": "code",
   "execution_count": 42,
   "id": "a8103d2c-c8d6-4260-a353-464a44f08eb4",
   "metadata": {},
   "outputs": [
    {
     "data": {
      "image/png": "[encoded data removed]",
      "text/plain": [
       "<Figure size 720x576 with 1 Axes>"
      ]
     },
     "metadata": {
      "needs_background": "light"
     },
     "output_type": "display_data"
    }
   ],
   "source": [
    "plt.figure(figsize=(10,8))\n",
    "sns.histplot(data=dataframe_or, x=\"age\", hue=\"diabetes\")\n",
    "plt.xlabel(\"Faixa etária\", fontdict={\"size\":15})\n",
    "plt.ylabel(\"Número de pessoas\", fontdict={\"size\":15})\n",
    "plt.tick_params(axis=\"both\", labelsize=13)\n",
    "plt.legend([\"Sim\",\"Não\"], title=\"Diabetes\")\n",
    "plt.title(\"Desenvolvimento de diabetes por faixa etária\",fontdict={\"size\":15})\n",
    "plt.show()"
   ]
  },
  {
   "cell_type": "markdown",
   "id": "9cbeba27-7ad9-4df9-bc90-d7b9493ed13f",
   "metadata": {},
   "source": [
    "Agora, vamos converter os valores da coluna diabetes de boleano para inteiro. Iremos fazer isso utilizando um mapeamento."
   ]
  },
  {
   "cell_type": "code",
   "execution_count": 43,
   "id": "829e2974-4e93-4601-aa83-4620dd1011ed",
   "metadata": {},
   "outputs": [],
   "source": [
    "dataframe_or[\"Diabetes\"] = dataframe_or[\"diabetes\"].map({True: 1, False: 0})"
   ]
  },
  {
   "cell_type": "code",
   "execution_count": 44,
   "id": "56a06e62-195d-4ec6-ab47-e19b471809a9",
   "metadata": {},
   "outputs": [
    {
     "data": {
      "text/html": [
       "<div>\n",
       "<style scoped>\n",
       "    .dataframe tbody tr th:only-of-type {\n",
       "        vertical-align: middle;\n",
       "    }\n",
       "\n",
       "    .dataframe tbody tr th {\n",
       "        vertical-align: top;\n",
       "    }\n",
       "\n",
       "    .dataframe thead th {\n",
       "        text-align: right;\n",
       "    }\n",
       "</style>\n",
       "<table border=\"1\" class=\"dataframe\">\n",
       "  <thead>\n",
       "    <tr style=\"text-align: right;\">\n",
       "      <th></th>\n",
       "      <th>num_preg</th>\n",
       "      <th>glucose_conc</th>\n",
       "      <th>diastolic_bp</th>\n",
       "      <th>thickness</th>\n",
       "      <th>insulin</th>\n",
       "      <th>bmi</th>\n",
       "      <th>diab_pred</th>\n",
       "      <th>age</th>\n",
       "      <th>skin</th>\n",
       "      <th>diabetes</th>\n",
       "      <th>Diabetes</th>\n",
       "    </tr>\n",
       "  </thead>\n",
       "  <tbody>\n",
       "    <tr>\n",
       "      <th>0</th>\n",
       "      <td>6</td>\n",
       "      <td>148</td>\n",
       "      <td>72</td>\n",
       "      <td>35</td>\n",
       "      <td>0</td>\n",
       "      <td>33.6</td>\n",
       "      <td>0.627</td>\n",
       "      <td>50</td>\n",
       "      <td>1.3780</td>\n",
       "      <td>True</td>\n",
       "      <td>1</td>\n",
       "    </tr>\n",
       "    <tr>\n",
       "      <th>1</th>\n",
       "      <td>1</td>\n",
       "      <td>85</td>\n",
       "      <td>66</td>\n",
       "      <td>29</td>\n",
       "      <td>0</td>\n",
       "      <td>26.6</td>\n",
       "      <td>0.351</td>\n",
       "      <td>31</td>\n",
       "      <td>1.1426</td>\n",
       "      <td>False</td>\n",
       "      <td>0</td>\n",
       "    </tr>\n",
       "    <tr>\n",
       "      <th>2</th>\n",
       "      <td>8</td>\n",
       "      <td>183</td>\n",
       "      <td>64</td>\n",
       "      <td>0</td>\n",
       "      <td>0</td>\n",
       "      <td>23.3</td>\n",
       "      <td>0.672</td>\n",
       "      <td>32</td>\n",
       "      <td>0.0000</td>\n",
       "      <td>True</td>\n",
       "      <td>1</td>\n",
       "    </tr>\n",
       "    <tr>\n",
       "      <th>3</th>\n",
       "      <td>1</td>\n",
       "      <td>89</td>\n",
       "      <td>66</td>\n",
       "      <td>23</td>\n",
       "      <td>94</td>\n",
       "      <td>28.1</td>\n",
       "      <td>0.167</td>\n",
       "      <td>21</td>\n",
       "      <td>0.9062</td>\n",
       "      <td>False</td>\n",
       "      <td>0</td>\n",
       "    </tr>\n",
       "    <tr>\n",
       "      <th>4</th>\n",
       "      <td>0</td>\n",
       "      <td>137</td>\n",
       "      <td>40</td>\n",
       "      <td>35</td>\n",
       "      <td>168</td>\n",
       "      <td>43.1</td>\n",
       "      <td>2.288</td>\n",
       "      <td>33</td>\n",
       "      <td>1.3790</td>\n",
       "      <td>True</td>\n",
       "      <td>1</td>\n",
       "    </tr>\n",
       "  </tbody>\n",
       "</table>\n",
       "</div>"
      ],
      "text/plain": [
       "   num_preg  glucose_conc  diastolic_bp  thickness  insulin   bmi  diab_pred  \\\n",
       "0         6           148            72         35        0  33.6      0.627   \n",
       "1         1            85            66         29        0  26.6      0.351   \n",
       "2         8           183            64          0        0  23.3      0.672   \n",
       "3         1            89            66         23       94  28.1      0.167   \n",
       "4         0           137            40         35      168  43.1      2.288   \n",
       "\n",
       "   age    skin  diabetes  Diabetes  \n",
       "0   50  1.3780      True         1  \n",
       "1   31  1.1426     False         0  \n",
       "2   32  0.0000      True         1  \n",
       "3   21  0.9062     False         0  \n",
       "4   33  1.3790      True         1  "
      ]
     },
     "execution_count": 44,
     "metadata": {},
     "output_type": "execute_result"
    }
   ],
   "source": [
    "dataframe_or.head(5)"
   ]
  },
  {
   "cell_type": "markdown",
   "id": "8da4d984-d7a5-48da-976d-4b982fc5e34c",
   "metadata": {},
   "source": [
    "Esse passo é importante pois os modelos de ML não levam em consideração o texto.\n",
    "\n",
    "Com isso feito, iremos observar como os dados target estão distribuídos nesse dataset."
   ]
  },
  {
   "cell_type": "code",
   "execution_count": 60,
   "id": "5d23793d-484a-4ba7-a1be-19f6110da600",
   "metadata": {},
   "outputs": [
    {
     "name": "stdout",
     "output_type": "stream",
     "text": [
      "Número de casos verdadeiros: 268 (34.90%)\n",
      "Número de casos falsos     : 500 (65.10%)\n"
     ]
    }
   ],
   "source": [
    "num_true = len(dataframe_or.loc[dataframe_or[\"diabetes\"]==True])\n",
    "num_fals = len(dataframe_or.loc[dataframe_or[\"diabetes\"]==False])\n",
    "print(\"Número de casos verdadeiros: {0} ({1:2.2f}%)\".format(num_true, (num_true/(num_true+num_fals)*100)))\n",
    "print(\"Número de casos falsos     : {0} ({1:2.2f}%)\".format(num_fals, (num_fals/(num_true+num_fals)*100)))"
   ]
  },
  {
   "cell_type": "markdown",
   "id": "dd46d796-4140-44b5-8994-842f6ac75618",
   "metadata": {},
   "source": [
    "Como queremos fazer uma previsão de classificados o ideal seria termos um equilíbrio nas classes, tendo mais ou menos metade de cada valor de uma classe para outra."
   ]
  },
  {
   "cell_type": "markdown",
   "id": "4da7d27f-51d4-43d6-a034-919d8def2923",
   "metadata": {},
   "source": [
    "## Splitting\n",
    "\n",
    "Agora, iremos dividir os nosso dados em casos de treino e casos de teste."
   ]
  },
  {
   "cell_type": "code",
   "execution_count": 61,
   "id": "e4a219fd-f97f-41d0-9129-92aadbcdf74a",
   "metadata": {},
   "outputs": [],
   "source": [
    "from sklearn.model_selection import train_test_split # Biblioteca do sklearn que nos auxilia a fazer a divisão dos dados"
   ]
  },
  {
   "cell_type": "code",
   "execution_count": 69,
   "id": "82b1de39-4b03-466a-85b7-bad2703e453e",
   "metadata": {},
   "outputs": [],
   "source": [
    "#Vamos usar todos os dados, menos o nosso target e a variavel \"skin\", para o treinamento do modelo.\n",
    "variavel_ind = [\"num_preg\", \"glucose_conc\", \"diastolic_bp\", \"thickness\", \"insulin\", \"bmi\", \"diab_pred\", \"age\"] \n",
    "variavel_dep = [\"Diabetes\"]\n",
    "\n",
    "x_treino = dataframe_or[variavel_ind].values\n",
    "y_treino = dataframe_or[variavel_dep].values"
   ]
  },
  {
   "cell_type": "code",
   "execution_count": 70,
   "id": "f530969c-9fa8-42a1-b076-739cf08a67dd",
   "metadata": {},
   "outputs": [],
   "source": [
    "xt, xv, yt, yv = train_test_split(x_treino, y_treino, test_size = 0.3, random_state = 42) #Aqui vamos usar 30% dos dados para validação."
   ]
  },
  {
   "cell_type": "markdown",
   "id": "b41879a7-a6b1-4880-9d21-bc891a6405ce",
   "metadata": {},
   "source": [
    "**Verificando o split**"
   ]
  },
  {
   "cell_type": "code",
   "execution_count": 76,
   "id": "a7004b43-c5c4-46d3-b625-26dad9e6555b",
   "metadata": {},
   "outputs": [
    {
     "name": "stdout",
     "output_type": "stream",
     "text": [
      "Original True : 268 (34.90%)\n",
      "Original False : 500 (65.10%)\n",
      "\n",
      "Training True : 188 (35.01%)\n",
      "Training False : 349 (64.99%)\n",
      "\n",
      "Test True : 80 (34.63%)\n",
      "Test False : 151 (65.37%)\n"
     ]
    }
   ],
   "source": [
    "print(\"Original True : {0} ({1:0.2f}%)\".format(len(dataframe_or.loc[dataframe_or['Diabetes'] == 1]), \n",
    "                                               (len(dataframe_or.loc[dataframe_or['Diabetes'] ==1])/len(dataframe_or.index) * 100)))\n",
    "\n",
    "print(\"Original False : {0} ({1:0.2f}%)\".format(len(dataframe_or.loc[dataframe_or['Diabetes'] == 0]), \n",
    "                                               (len(dataframe_or.loc[dataframe_or['Diabetes'] == 0])/len(dataframe_or.index) * 100)))\n",
    "\n",
    "Y_treino = yt\n",
    "Y_teste = yv\n",
    "print(\"\")\n",
    "print(\"Training True : {0} ({1:0.2f}%)\".format(len(Y_treino[Y_treino[:] == 1]), \n",
    "                                               (len(Y_treino[Y_treino[:] == 1])/len(Y_treino) * 100)))\n",
    "\n",
    "print(\"Training False : {0} ({1:0.2f}%)\".format(len(Y_treino[Y_treino[:] == 0]), \n",
    "                                               (len(Y_treino[Y_treino[:] == 0])/len(Y_treino) * 100)))\n",
    "print(\"\")\n",
    "print(\"Test True : {0} ({1:0.2f}%)\".format(len(Y_teste[Y_teste[:] == 1]), \n",
    "                                               (len(Y_teste[Y_teste[:] == 1])/len(Y_teste) * 100)))\n",
    "\n",
    "print(\"Test False : {0} ({1:0.2f}%)\".format(len(Y_teste[Y_teste[:] == 0]), \n",
    "                                               (len(Y_teste[Y_teste[:] == 0])/len(Y_teste) * 100)))"
   ]
  },
  {
   "cell_type": "markdown",
   "id": "d087a9d0-b655-42cc-b9fb-1b5098fb6c32",
   "metadata": {},
   "source": [
    "**Tratando os valore missing ocultos**"
   ]
  },
  {
   "cell_type": "code",
   "execution_count": 80,
   "id": "2bbe547f-c864-4e60-92bc-028ab6a8d585",
   "metadata": {},
   "outputs": [
    {
     "name": "stdout",
     "output_type": "stream",
     "text": [
      "Na coluna num_preg temos 111 valores missing\n",
      "Na coluna glucose_conc temos 5 valores missing\n",
      "Na coluna diastolic_bp temos 35 valores missing\n",
      "Na coluna thickness temos 227 valores missing\n",
      "Na coluna insulin temos 374 valores missing\n",
      "Na coluna bmi temos 11 valores missing\n",
      "Na coluna diab_pred temos 0 valores missing\n",
      "Na coluna age temos 0 valores missing\n",
      "Na coluna skin temos 227 valores missing\n"
     ]
    }
   ],
   "source": [
    "for i in dataframe_or:\n",
    "    if i == \"Diabetes\" or i == \"diabetes\":\n",
    "        pass\n",
    "    else: \n",
    "        print(\"Na coluna %s temos %s valores missing\"%(i,len(dataframe_or.loc[dataframe_or[i]==0])))"
   ]
  },
  {
   "cell_type": "markdown",
   "id": "472318a7-66b5-4709-843d-9dca308628af",
   "metadata": {},
   "source": [
    "A coluna num_preg, que é o número de gestações, apresenta diversos valores 0 que dizem respeito a mulher não ter engravidado, então eles existirem é algo esperado. \n",
    "\n",
    "Na coluna glucose_conc, que é a concentração de glicose, temos 5 valores nulos que não são esperados e portanto são valores missing ocultos.\n",
    "\n",
    "Na coluna diastolic_bp, que é relacionada a pressão sanguínea, temos 35 valores nulos, portanto eles também são valores missing ocultos.\n",
    "\n",
    "Na coluna thickness, que é relacionada a espessura da dobra cutânea do triceps, temos 227 valores nulos, que não são esperados também. \n",
    "\n",
    "Para a coluna de insulina, temos 374 valores nulos.\n",
    "\n",
    "Para a coluna bmi, que diz respeito a massa corporal, temos 11 valores missing, que também não são esperados. \n",
    "\n",
    "Por fim, a coluna skin não nos é importante.\n",
    "\n",
    "Para resolver esse problema iremos utilizar a biblioteca sklearn e estaremos olhando para a classe <a href=https://scikit-learn.org/stable/modules/generated/sklearn.impute.SimpleImputer.html>SimpleImputer</a> (imputação)."
   ]
  },
  {
   "cell_type": "code",
   "execution_count": 83,
   "id": "ee6e798f-e7bc-4ca0-bac7-7abc66ed64e8",
   "metadata": {},
   "outputs": [],
   "source": [
    "from sklearn.impute import SimpleImputer"
   ]
  },
  {
   "cell_type": "code",
   "execution_count": 85,
   "id": "d6976d8e-7200-46bd-8abd-62f7a90044f8",
   "metadata": {},
   "outputs": [],
   "source": [
    "#Criamos o objeto\n",
    "preenche_os = SimpleImputer(missing_values=0, strategy=\"mean\")\n",
    "#Agora, mudamos os dados de treino alterando os valores igual a zero pela média dos dados.\n",
    "xt = preenche_os.fit_transform(xt)\n",
    "xv = preenche_os.fit_transform(xv)"
   ]
  },
  {
   "cell_type": "markdown",
   "id": "d8d33ea6-4b1b-4c69-8372-9ae6de0729e5",
   "metadata": {},
   "source": [
    "## 3. Treinamento do modelo"
   ]
  },
  {
   "cell_type": "markdown",
   "id": "dcd914be-cf29-48a5-a101-fb7b6098a388",
   "metadata": {},
   "source": [
    "### 3.1 Treinando o modelo com Naive Bayes"
   ]
  },
  {
   "cell_type": "code",
   "execution_count": 87,
   "id": "fcd815ee-0f3b-400a-9a14-2030cf8393e1",
   "metadata": {},
   "outputs": [],
   "source": [
    "from sklearn.naive_bayes import GaussianNB #Importo o modelo de ML"
   ]
  },
  {
   "cell_type": "code",
   "execution_count": 122,
   "id": "bf5c7fea-ea4d-48ae-91f4-29e3665d5f6e",
   "metadata": {},
   "outputs": [],
   "source": [
    "# Crio o modelo preditivo\n",
    "modelo_gnb = GaussianNB()\n",
    "# Treino o modelo preditivo\n",
    "modelo_v1 = modelo_gnb.fit(xt,yt.ravel())"
   ]
  },
  {
   "cell_type": "markdown",
   "id": "89d2a2f3-32d4-4618-af5d-b3e109c87d62",
   "metadata": {},
   "source": [
    "**Verificando a exatidão do modelo**"
   ]
  },
  {
   "cell_type": "code",
   "execution_count": 123,
   "id": "487cbc10-95c9-4c55-8e29-db7b7861528b",
   "metadata": {},
   "outputs": [],
   "source": [
    "from sklearn import metrics # Importo todas as métricas pra verificar a exatidão no modelo do sklearn"
   ]
  },
  {
   "cell_type": "code",
   "execution_count": 124,
   "id": "9d959bfb-979a-4cc0-9ef8-57c8f94d3c71",
   "metadata": {},
   "outputs": [
    {
     "name": "stdout",
     "output_type": "stream",
     "text": [
      "A exatidão do modelo nos dados de treino é: 0.7542\n",
      "A exatidão do modelo nos dados de validação é: 0.7359\n"
     ]
    }
   ],
   "source": [
    "pred_v1_treino = modelo_v1.predict(xt)\n",
    "pred_v1_valida = modelo_v1.predict(xv)\n",
    "print(\"A exatidão do modelo nos dados de treino é: {0:.4f}\".format(metrics.accuracy_score(yt,pred_v1_treino)))\n",
    "print(\"A exatidão do modelo nos dados de validação é: {0:.4f}\".format(metrics.accuracy_score(yv,pred_v1_valida)))"
   ]
  },
  {
   "cell_type": "markdown",
   "id": "ecb00e6e-4e5b-46ee-9411-fff32f5fe8fa",
   "metadata": {},
   "source": [
    "Estranhamente, os dados de treino não estão muito bons, ou seja: o modelo não reproduz perfeitamente os dados de treino!"
   ]
  },
  {
   "cell_type": "code",
   "execution_count": 125,
   "id": "5f046663-f0e3-48b9-a2fc-2151862f1295",
   "metadata": {},
   "outputs": [
    {
     "name": "stdout",
     "output_type": "stream",
     "text": [
      "[[ 52  28]\n",
      " [ 33 118]]\n",
      "\n",
      "Classification Report\n",
      "              precision    recall  f1-score   support\n",
      "\n",
      "           1       0.61      0.65      0.63        80\n",
      "           0       0.81      0.78      0.79       151\n",
      "\n",
      "    accuracy                           0.74       231\n",
      "   macro avg       0.71      0.72      0.71       231\n",
      "weighted avg       0.74      0.74      0.74       231\n",
      "\n"
     ]
    }
   ],
   "source": [
    "# Criando uma Confusion Matrix\n",
    "cfm_v1 = metrics.confusion_matrix(yv, pred_v1_valida, labels=[1,0])\n",
    "\n",
    "print(\"{0}\".format(cfm_v1))\n",
    "print(\"\")\n",
    "\n",
    "cfr_v1 = metrics.classification_report(yv, pred_v1_valida, labels=[1,0])\n",
    "print(\"Classification Report\")\n",
    "print(cfr_v1)"
   ]
  },
  {
   "cell_type": "markdown",
   "id": "0aecfd85-9e54-4330-8081-73bbaed35265",
   "metadata": {},
   "source": [
    "### 3.2 Otimizando o modelo com RandomForest"
   ]
  },
  {
   "cell_type": "code",
   "execution_count": 98,
   "id": "ea736364-8209-48ae-904a-c107f9acb7b4",
   "metadata": {},
   "outputs": [],
   "source": [
    "from sklearn.ensemble import RandomForestClassifier"
   ]
  },
  {
   "cell_type": "code",
   "execution_count": 99,
   "id": "62e9c479-bc3c-4355-ba25-c4ce22a28b74",
   "metadata": {},
   "outputs": [
    {
     "data": {
      "text/plain": [
       "RandomForestClassifier(random_state=42)"
      ]
     },
     "execution_count": 99,
     "metadata": {},
     "output_type": "execute_result"
    }
   ],
   "source": [
    "modelo_v2 = RandomForestClassifier(random_state = 42)\n",
    "modelo_v2.fit(xt, yt.ravel())"
   ]
  },
  {
   "cell_type": "code",
   "execution_count": 101,
   "id": "c5c10452-5fc7-411f-b19f-5ada0b92ec19",
   "metadata": {},
   "outputs": [
    {
     "name": "stdout",
     "output_type": "stream",
     "text": [
      "A exatidão do modelo nos dados de treino é: 1.0000\n",
      "A exatidão do modelo nos dados de validação é: 0.7403\n"
     ]
    }
   ],
   "source": [
    "#Verificação da acurácia do modelo usando dados de treino e dados de validação\n",
    "pred_v2_treino = modelo_v2.predict(xt)\n",
    "pred_v2_valida = modelo_v2.predict(xv)\n",
    "\n",
    "print(\"A exatidão do modelo nos dados de treino é: {0:.4f}\".format(metrics.accuracy_score(yt,pred_v2_treino)))\n",
    "print(\"A exatidão do modelo nos dados de validação é: {0:.4f}\".format(metrics.accuracy_score(yv,pred_v2_valida)))"
   ]
  },
  {
   "cell_type": "markdown",
   "id": "de2bbea4-30f7-41f9-832a-fef9910e2c9d",
   "metadata": {},
   "source": [
    "Podemos notar uma pequena melhoria nos dados de validação e uma melhoria imensa nos dados de treino, isto é: o modelo consegue descrever os dados de treino perfeitamente, diferentemente do que ocorreu com o modelo anterior."
   ]
  },
  {
   "cell_type": "code",
   "execution_count": 102,
   "id": "e5d5b47e-5b89-4a3b-bf8c-72528a3e7379",
   "metadata": {},
   "outputs": [
    {
     "name": "stdout",
     "output_type": "stream",
     "text": [
      "[[ 52  28]\n",
      " [ 32 119]]\n",
      "\n",
      "Classification Report\n",
      "              precision    recall  f1-score   support\n",
      "\n",
      "           1       0.62      0.65      0.63        80\n",
      "           0       0.81      0.79      0.80       151\n",
      "\n",
      "    accuracy                           0.74       231\n",
      "   macro avg       0.71      0.72      0.72       231\n",
      "weighted avg       0.74      0.74      0.74       231\n",
      "\n"
     ]
    }
   ],
   "source": [
    "# Criando uma Confusion Matrix\n",
    "cfm_v2 = metrics.confusion_matrix(yv, pred_v2_valida, labels=[1,0])\n",
    "\n",
    "print(\"{0}\".format(cfm_v2))\n",
    "print(\"\")\n",
    "\n",
    "cfr_v2 = metrics.classification_report(yv, pred_v2_valida, labels=[1,0])\n",
    "print(\"Classification Report\")\n",
    "print(cfr_v2)"
   ]
  },
  {
   "cell_type": "markdown",
   "id": "9181b101-a943-4006-9c4d-e7633f1cc727",
   "metadata": {},
   "source": [
    "### 3.3 Utilizando o algoritmo de Regressão Logística"
   ]
  },
  {
   "cell_type": "code",
   "execution_count": 105,
   "id": "87e89f3f-9ac9-47dd-8746-27ecc593091f",
   "metadata": {},
   "outputs": [],
   "source": [
    "from sklearn.linear_model import LogisticRegression"
   ]
  },
  {
   "cell_type": "code",
   "execution_count": 118,
   "id": "123c30a0-8b0f-4a2a-85d7-5b0cb61c9c50",
   "metadata": {},
   "outputs": [
    {
     "data": {
      "text/plain": [
       "LogisticRegression(C=0.7, max_iter=1000, random_state=42)"
      ]
     },
     "execution_count": 118,
     "metadata": {},
     "output_type": "execute_result"
    }
   ],
   "source": [
    "#Treinamento do modelo\n",
    "modelo_v3 = LogisticRegression(C = 0.7, random_state= 42, max_iter=1000) #Esse algoritmo é um algoritmo de CLASSIFICAÇÃO!\n",
    "modelo_v3.fit(xt, yt.ravel())"
   ]
  },
  {
   "cell_type": "code",
   "execution_count": 119,
   "id": "79700adf-c82b-4c6d-827b-cb7837d937f0",
   "metadata": {},
   "outputs": [
    {
     "name": "stdout",
     "output_type": "stream",
     "text": [
      "A exatidão do modelo nos dados de treino é: 0.7877\n",
      "A exatidão do modelo nos dados de validação é: 0.7359\n"
     ]
    }
   ],
   "source": [
    "#Predições e teste!\n",
    "pred_v3_treino = modelo_v3.predict(xt)\n",
    "pred_v3_valida = modelo_v3.predict(xv)\n",
    "\n",
    "print(\"A exatidão do modelo nos dados de treino é: {0:.4f}\".format(metrics.accuracy_score(yt,pred_v3_treino)))\n",
    "print(\"A exatidão do modelo nos dados de validação é: {0:.4f}\".format(metrics.accuracy_score(yv,pred_v3_valida)))"
   ]
  },
  {
   "cell_type": "markdown",
   "id": "a19fdf4b-2f74-4bb0-894c-4601188e20bd",
   "metadata": {},
   "source": [
    "Novamente, nós temos um modelo que não descreve perfeitamente os dados de teste."
   ]
  },
  {
   "cell_type": "code",
   "execution_count": 120,
   "id": "b3f386b2-cca1-4ce3-acda-437d490101fb",
   "metadata": {},
   "outputs": [
    {
     "name": "stdout",
     "output_type": "stream",
     "text": [
      "[[ 47  33]\n",
      " [ 28 123]]\n",
      "\n",
      "Classification Report\n",
      "              precision    recall  f1-score   support\n",
      "\n",
      "           1       0.63      0.59      0.61        80\n",
      "           0       0.79      0.81      0.80       151\n",
      "\n",
      "    accuracy                           0.74       231\n",
      "   macro avg       0.71      0.70      0.70       231\n",
      "weighted avg       0.73      0.74      0.73       231\n",
      "\n"
     ]
    }
   ],
   "source": [
    "# Criando uma Confusion Matrix\n",
    "cfm_v3 = metrics.confusion_matrix(yv, pred_v3_valida, labels=[1,0])\n",
    "\n",
    "print(\"{0}\".format(cfm_v3))\n",
    "print(\"\")\n",
    "\n",
    "cfr_v3 = metrics.classification_report(yv, pred_v3_valida, labels=[1,0])\n",
    "print(\"Classification Report\")\n",
    "print(cfr_v3)"
   ]
  },
  {
   "cell_type": "markdown",
   "id": "b7659447-61aa-4bcd-84fb-efb9d81879f5",
   "metadata": {},
   "source": [
    "### 3.4 Conclusões"
   ]
  },
  {
   "cell_type": "code",
   "execution_count": 121,
   "id": "e2b4e275-7752-455b-b23e-8f0d09d41661",
   "metadata": {},
   "outputs": [
    {
     "name": "stdout",
     "output_type": "stream",
     "text": [
      "A acurácia de cada modelo é:\n",
      "Modelo 1: 0.7359307359307359\n",
      "Modelo 2: 0.7402597402597403\n",
      "Modelo 3: 0.7359307359307359\n"
     ]
    }
   ],
   "source": [
    "print(\"A acurácia de cada modelo nos dados de validação é:\")\n",
    "print(\"Modelo 1: %s\"%(metrics.accuracy_score(yv,pred_v1_valida)))\n",
    "print(\"Modelo 2: %s\"%(metrics.accuracy_score(yv,pred_v2_valida)))\n",
    "print(\"Modelo 3: %s\"%(metrics.accuracy_score(yv,pred_v3_valida)))"
   ]
  },
  {
   "cell_type": "code",
   "execution_count": 127,
   "id": "927758b1-e8d2-4a02-b9ca-b61ad20d70fe",
   "metadata": {},
   "outputs": [
    {
     "name": "stdout",
     "output_type": "stream",
     "text": [
      "A acurácia de cada modelo nos dados de treino é:\n",
      "Modelo 1: 0.7541899441340782\n",
      "Modelo 2: 1.0\n",
      "Modelo 3: 0.7877094972067039\n"
     ]
    }
   ],
   "source": [
    "print(\"A acurácia de cada modelo nos dados de treino é:\")\n",
    "print(\"Modelo 1: %s\"%(metrics.accuracy_score(yt,pred_v1_treino)))\n",
    "print(\"Modelo 2: %s\"%(metrics.accuracy_score(yt,pred_v2_treino)))\n",
    "print(\"Modelo 3: %s\"%(metrics.accuracy_score(yt,pred_v3_treino)))"
   ]
  },
  {
   "cell_type": "markdown",
   "id": "6c520c91-9f44-4c00-8f73-9102581ee0a2",
   "metadata": {},
   "source": [
    "Podemos notar que embora os resultados na validação dos modelos 1 e 3 sejam os mesmos, o resultado no treino do modelo não é. \n",
    "\n",
    "Observando os resultados da validação, o modelo que melhor descreve os dados é o segundo modelo, de Floresta Aleatória (Random Florest)."
   ]
  },
  {
   "cell_type": "markdown",
   "id": "bd510eb9-ac85-409e-9719-048001fd1905",
   "metadata": {},
   "source": [
    "**Fazendo previsões com o modelo treinado** "
   ]
  },
  {
   "cell_type": "code",
   "execution_count": 130,
   "id": "388569f9-4ca3-4f00-b955-ca246a24582f",
   "metadata": {},
   "outputs": [],
   "source": [
    "# Salvamos o modelo treinado caso queiramos utilizá-lo futuramente;\n",
    "import pickle\n",
    "filename = 'Modelo_Diabetes_treinado.sav'\n",
    "pickle.dump(modelo_v2,open(filename,'wb'))"
   ]
  },
  {
   "cell_type": "code",
   "execution_count": 132,
   "id": "b5804308-76f3-4ee5-b048-c096b2a7c9df",
   "metadata": {},
   "outputs": [
    {
     "name": "stdout",
     "output_type": "stream",
     "text": [
      "[0]\n",
      "[0]\n"
     ]
    }
   ],
   "source": [
    "# Carregamos o modelo já treinado. Aqui devemos ter novos valores de xt e yt preparados com o devido cuidado no processo de limpeza e transformação\n",
    "loaded_model = pickle.load(open(filename,'rb'))\n",
    "resultado1 = loaded_model.predict(xt[15].reshape(1,-1))\n",
    "resultado2 = loaded_model.predict(xt[18].reshape(1,-1))\n",
    "print(resultado1)\n",
    "print(resultado2)"
   ]
  }
 ],
 "metadata": {
  "kernelspec": {
   "display_name": "Python 3",
   "language": "python",
   "name": "python3"
  },
  "language_info": {
   "codemirror_mode": {
    "name": "ipython",
    "version": 3
   },
   "file_extension": ".py",
   "mimetype": "text/x-python",
   "name": "python",
   "nbconvert_exporter": "python",
   "pygments_lexer": "ipython3",
   "version": "3.8.8"
  }
 },
 "nbformat": 4,
 "nbformat_minor": 5
}
